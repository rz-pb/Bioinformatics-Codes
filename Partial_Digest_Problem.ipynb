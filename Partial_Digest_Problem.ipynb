{
  "nbformat": 4,
  "nbformat_minor": 0,
  "metadata": {
    "colab": {
      "name": "Partial Digest Problem.ipynb",
      "provenance": [],
      "collapsed_sections": [],
      "toc_visible": true,
      "authorship_tag": "ABX9TyMe3QVuKOer42HHvvQ+B24V",
      "include_colab_link": true
    },
    "kernelspec": {
      "name": "python3",
      "display_name": "Python 3"
    },
    "language_info": {
      "name": "python"
    }
  },
  "cells": [
    {
      "cell_type": "markdown",
      "metadata": {
        "id": "view-in-github",
        "colab_type": "text"
      },
      "source": [
        "<a href=\"https://colab.research.google.com/github/rz-pb/Bioinformatics-Codes/blob/main/Partial_Digest_Problem.ipynb\" target=\"_parent\"><img src=\"https://colab.research.google.com/assets/colab-badge.svg\" alt=\"Open In Colab\"/></a>"
      ]
    },
    {
      "cell_type": "markdown",
      "metadata": {
        "id": "SEIGOP9VZjIf"
      },
      "source": [
        "#Partial Digest Probem ( PDP )"
      ]
    },
    {
      "cell_type": "code",
      "metadata": {
        "id": "Q1PuH-u9c6Gi"
      },
      "source": [
        "# Importing libraries\n",
        "\n",
        "import numpy as np\n",
        "from math import factorial\n",
        "import random\n",
        "from collections import Counter"
      ],
      "execution_count": null,
      "outputs": []
    },
    {
      "cell_type": "code",
      "metadata": {
        "id": "iPsb3xatclya"
      },
      "source": [
        "# instance to check the code when it has solution:\n",
        "number_of_cuts1 = 5\n",
        "L1 = np.array([ 2 , 2 , 3 , 3 , 4 , 5 , 6 , 7 , 8 , 10])\n",
        "L_takehome = np.array([1,1,1,2,2,3,3,3,4,4,5,5,6,6,6,9,9,10,11,12,15])\n",
        "# instance to check the code when it hasn't any solution: (hint: due to definition of Delta operation, 0 could not be an element in L)\n",
        "number_of_cuts2 = 5\n",
        "L2 = np.array([ 0 , 2 , 3 , 3 , 4 , 5 , 6 , 7 , 8 , 10])"
      ],
      "execution_count": null,
      "outputs": []
    },
    {
      "cell_type": "code",
      "source": [
        "def Induced_Difference(y,X) :\n",
        "  X = np.array(X)\n",
        "  result = abs(X-y)\n",
        "  return result"
      ],
      "metadata": {
        "id": "ASLczcaF5X5a"
      },
      "execution_count": null,
      "outputs": []
    },
    {
      "cell_type": "code",
      "metadata": {
        "id": "83nVD_WYvyon"
      },
      "source": [
        "# Defining a function to fill the Delta multiset as the collection of mutual differences between each set's elements. \n",
        "\n",
        "def Delta(myset) :\n",
        "  mysortedset = np.sort(myset)\n",
        "\n",
        "  Deltaset = np.array([])\n",
        "  \n",
        "  for i in range(0,len(mysortedset)-1) :\n",
        "    for j in range(i+1 ,len(mysortedset)) :\n",
        "      Deltaset = np.append(Deltaset,int(mysortedset[j]-mysortedset[i]))\n",
        "\n",
        "  return np.sort(Deltaset)"
      ],
      "execution_count": null,
      "outputs": []
    },
    {
      "cell_type": "code",
      "metadata": {
        "id": "Kr1yai9kWLMa"
      },
      "source": [
        "# This Function simply converts a decimal integer (in base 10) to its binary version ( in base 2) and represents it as a list of 0 s and 1 s , \n",
        "# such that the least significant bit would be stored in the the lowest index and so forth. It gets \"max_num_pows_of_2\" as the maximum number of powers of 2\n",
        "# for which the calculations are performed. For example, if max_num_pows_of_2 = 4 , the function does the calculations for 2 ^ 0 , 2 ^ 1 , 2^ 2 , 2 ^ 3\n",
        "# (the result would have 4 digits in this case)\n",
        "# Example : binarysplit(6,4)  : [0,1,1,0,0] \n",
        "\n",
        "def binarysplit(number_a,max_num_pows_of_2) :\n",
        "  \n",
        "  temp = number_a\n",
        "  split_array = np.zeros((max_num_pows_of_2,))\n",
        "\n",
        "  for i in reversed(range(0,max_num_pows_of_2)) :\n",
        "    split_array[i] = int(temp/(2**(i)))\n",
        "    temp = temp - split_array[i]*(2**(i))\n",
        "\n",
        "  return split_array"
      ],
      "execution_count": null,
      "outputs": []
    },
    {
      "cell_type": "code",
      "metadata": {
        "id": "GmvRnMXgWMVw"
      },
      "source": [
        "# This Function applies \"binarysplit\" function to form a bit-masking matrix, such that in row i, we have split digits for the binary version of decimal number \"i\"\n",
        "# (stored as boolean : 0 --> False , 1 --> True)\n",
        "# Later we will use the bit-masking matrix, as a boolean filter to know which elements would be cherry-picked for each subset.\n",
        "\n",
        "def bitmask_matrix_constructor(total,n) :\n",
        "\n",
        "  bitmask_matrix = np.zeros((total,n),dtype=bool)\n",
        "  for i in range(0,total) :\n",
        "    bitmask_matrix[i] = binarysplit(i,n)\n",
        "\n",
        "  return bitmask_matrix"
      ],
      "execution_count": null,
      "outputs": []
    },
    {
      "cell_type": "code",
      "metadata": {
        "id": "bPE10_vrVvoj"
      },
      "source": [
        "def subset_array_constructor(myset, no_subset_elements):\n",
        "  \n",
        "  # Cardinality of myset\n",
        "  myset_cardinality = len(myset)\n",
        "\n",
        "  # Number of all subsets of myset\n",
        "  total = 2**myset_cardinality\n",
        "\n",
        "  my_bitmask_matrix = bitmask_matrix_constructor(total,myset_cardinality)\n",
        "\n",
        "  # Creating an array in which we will store the number of 1 s ( or True values) in each row of bit-masking matrix; \n",
        "  # It shows which rows of bit-masking matrix, we should apply as filters to print subsets with a specific number of elements.\n",
        "\n",
        "  row_sum = np.zeros((total,))\n",
        "  for i in range(0,total):\n",
        "    for j in range(0,myset_cardinality):\n",
        "      row_sum[i] = row_sum[i] + my_bitmask_matrix[i,j]\n",
        "\n",
        "  # Creating another filter to find the rows in \"row_sum\" array with value \"number_of_elements\"(our desired number of elements)\n",
        "\n",
        "  row_sum_filter = [index for index,value in enumerate(row_sum) if value == no_subset_elements]\n",
        "\n",
        "  num_of_subsets = int(factorial(myset_cardinality)/(factorial(myset_cardinality-no_subset_elements)*factorial(no_subset_elements)))\n",
        "\n",
        "  my_subset_array = np.zeros((num_of_subsets,no_subset_elements),dtype = int)\n",
        "  # applying the \"row_sum_filter\" to print all the k-element subsets.\n",
        "  for index,i in enumerate(row_sum_filter) :\n",
        "    my_subset_array[index,:] = myset[my_bitmask_matrix[i]]\n",
        "    # print(myset[my_bitmask_matrix[i]])\n",
        "\n",
        "  return my_subset_array\n"
      ],
      "execution_count": null,
      "outputs": []
    },
    {
      "cell_type": "markdown",
      "metadata": {
        "id": "we7NrpLDZqz_"
      },
      "source": [
        "## Brute-Force Approach"
      ]
    },
    {
      "cell_type": "markdown",
      "metadata": {
        "id": "KgGaI19DZx3u"
      },
      "source": [
        "### Brute-Force Approach ( not optimized )"
      ]
    },
    {
      "cell_type": "code",
      "metadata": {
        "id": "jDIzI340cMtR"
      },
      "source": [
        "def BruteForcePDP(L,number_of_cuts) :\n",
        "\n",
        "  M = np.max(L) \n",
        "  my_range = np.arange(1,M) # including 1 , excluding M\n",
        "  \n",
        "  length_of_range = len(my_range)\n",
        "  \n",
        "  num_of_subsets = int(factorial(length_of_range)/(factorial(length_of_range-(number_of_cuts-2))*factorial(number_of_cuts-2)))\n",
        "  \n",
        "\n",
        "  subset_array = subset_array_constructor(my_range,number_of_cuts-2)\n",
        "\n",
        "  Found_Any_Yet = False \n",
        "\n",
        "  for i in range(0,num_of_subsets) :\n",
        "    X = np.array([0,M])\n",
        "    X = np.insert(X,1,subset_array[i])\n",
        "\n",
        "    if np.array_equal(Delta(X),L) :\n",
        "      Found_Any_Yet = True\n",
        "      print(X)\n",
        "\n",
        "  if not Found_Any_Yet :\n",
        "    print(\"No Solution!\")"
      ],
      "execution_count": null,
      "outputs": []
    },
    {
      "cell_type": "code",
      "metadata": {
        "id": "5xzAXsH7g9gx",
        "colab": {
          "base_uri": "https://localhost:8080/"
        },
        "outputId": "b0824507-3b86-4dae-d2fc-00e7066ceee2"
      },
      "source": [
        "BruteForcePDP(L1,number_of_cuts1)"
      ],
      "execution_count": null,
      "outputs": [
        {
          "output_type": "stream",
          "name": "stdout",
          "text": [
            "[ 0  2  4  7 10]\n",
            "[ 0  3  6  8 10]\n"
          ]
        }
      ]
    },
    {
      "cell_type": "code",
      "metadata": {
        "colab": {
          "base_uri": "https://localhost:8080/"
        },
        "id": "4ambB1_FmfjJ",
        "outputId": "7bc0bbe6-2266-49b2-f971-cd652b44ca62"
      },
      "source": [
        "print(Delta(np.array([ 0 , 2 , 4 , 7 , 10])))\n",
        "print(Delta(np.array([ 0 , 3 , 6 , 8 , 10])))"
      ],
      "execution_count": null,
      "outputs": [
        {
          "output_type": "stream",
          "name": "stdout",
          "text": [
            "[ 2.  2.  3.  3.  4.  5.  6.  7.  8. 10.]\n",
            "[ 2.  2.  3.  3.  4.  5.  6.  7.  8. 10.]\n"
          ]
        }
      ]
    },
    {
      "cell_type": "code",
      "metadata": {
        "colab": {
          "base_uri": "https://localhost:8080/"
        },
        "id": "YM3XtDiSNZ3i",
        "outputId": "99384bae-282e-4947-d005-c851f7d2ed3f"
      },
      "source": [
        "BruteForcePDP(L2,number_of_cuts2)"
      ],
      "execution_count": null,
      "outputs": [
        {
          "output_type": "stream",
          "name": "stdout",
          "text": [
            "No Solution!\n"
          ]
        }
      ]
    },
    {
      "cell_type": "code",
      "source": [
        "BruteForcePDP(L_takehome,7)"
      ],
      "metadata": {
        "colab": {
          "base_uri": "https://localhost:8080/"
        },
        "id": "WxnaPQTd3sPK",
        "outputId": "f5c98139-afef-4b3a-acd8-9cae3f8bc721"
      },
      "execution_count": null,
      "outputs": [
        {
          "output_type": "stream",
          "name": "stdout",
          "text": [
            "[ 0  3  4  5  6  9 15]\n",
            "[ 0  6  9 10 11 12 15]\n"
          ]
        }
      ]
    },
    {
      "cell_type": "markdown",
      "metadata": {
        "id": "Wsp0XIFMaR3C"
      },
      "source": [
        "###Brute-Force Approach ( with a minor improvement in terms of time complexity )\n"
      ]
    },
    {
      "cell_type": "code",
      "metadata": {
        "id": "KlL0OtqOcNvM"
      },
      "source": [
        "def BruteForcePDP_minor_improvement(L,number_of_cuts) :\n",
        "  M = np.max(L)\n",
        "\n",
        "  # note : using \"np.unique\" method is extremely important, because it removes duplicates from L (L is a multiset so redundancies are allowed)\n",
        "  # without doing so, we will encounter duplicates when constructing subsets and the final results would be affected too.\n",
        "  \n",
        "  my_range = np.unique(np.array(L[0:-1]))    # excluding M from L\n",
        "  \n",
        "  length_of_range = len(my_range)\n",
        "  \n",
        "  num_of_subsets = int(factorial(length_of_range)/(factorial(length_of_range-(number_of_cuts-2))*factorial(number_of_cuts-2)))\n",
        "\n",
        "  subset_array = subset_array_constructor(my_range,number_of_cuts-2)\n",
        "\n",
        "  Found_Any_Yet = False \n",
        "\n",
        "  for i in range(0,num_of_subsets) :\n",
        "    X = np.array([0,M])\n",
        "    X = np.insert(X,1,subset_array[i])\n",
        "\n",
        "    if np.array_equal(Delta(X),L) :\n",
        "      Found_Any_Yet = True\n",
        "      print(X)\n",
        "\n",
        "  if not Found_Any_Yet :\n",
        "    print(\"No Solution!\")"
      ],
      "execution_count": null,
      "outputs": []
    },
    {
      "cell_type": "code",
      "metadata": {
        "colab": {
          "base_uri": "https://localhost:8080/"
        },
        "id": "HsIwk-qmpWXL",
        "outputId": "5eba6ecb-64a2-41ba-97e3-92847a36cb8c"
      },
      "source": [
        "BruteForcePDP_minor_improvement(L1,number_of_cuts1)"
      ],
      "execution_count": null,
      "outputs": [
        {
          "output_type": "stream",
          "name": "stdout",
          "text": [
            "[ 0  2  4  7 10]\n",
            "[ 0  3  6  8 10]\n"
          ]
        }
      ]
    },
    {
      "cell_type": "code",
      "metadata": {
        "colab": {
          "base_uri": "https://localhost:8080/"
        },
        "id": "ZJHe5KmENgRn",
        "outputId": "94dbab1d-d3db-4173-dbba-2d0b667e10fd"
      },
      "source": [
        "BruteForcePDP_minor_improvement(L2,number_of_cuts2)"
      ],
      "execution_count": null,
      "outputs": [
        {
          "output_type": "stream",
          "name": "stdout",
          "text": [
            "No Solution!\n"
          ]
        }
      ]
    },
    {
      "cell_type": "code",
      "source": [
        "BruteForcePDP_minor_improvement(L_takehome,7)"
      ],
      "metadata": {
        "colab": {
          "base_uri": "https://localhost:8080/"
        },
        "id": "rKlMQktY3Jle",
        "outputId": "47c343a7-9a64-484d-92ad-85e0c68c3d85"
      },
      "execution_count": null,
      "outputs": [
        {
          "output_type": "stream",
          "name": "stdout",
          "text": [
            "[ 0  3  4  5  6  9 15]\n",
            "[ 0  6  9 10 11 12 15]\n"
          ]
        }
      ]
    },
    {
      "cell_type": "markdown",
      "metadata": {
        "id": "Qcj6Gdeyavnp"
      },
      "source": [
        "## Efficient Algorithm"
      ]
    },
    {
      "cell_type": "code",
      "metadata": {
        "id": "Gspu-Li4cOjY"
      },
      "source": [
        "def PDP_efficient(L_input) :\n",
        "  L = np.sort(L_input)\n",
        "  width = np.max(L)\n",
        "  L = np.array([item for item in L if item != width])\n",
        "  X = np.array([0,width])\n",
        "  PLACE(L,X,width)\n",
        "  \n",
        "  \n",
        "\n",
        "def PLACE(L,X,width) : \n",
        "  \n",
        "  L_temp = np.array(L)\n",
        "\n",
        "  if len(L_temp) == 0 : \n",
        "    print(X)\n",
        "\n",
        "    return\n",
        "\n",
        "  y = np.max(L_temp)\n",
        "  \n",
        "  if set(Induced_Difference(y,X)) <= set(L_temp) :\n",
        "    X1 = np.sort(np.append(X,y))\n",
        "    L_temp1 = Remove_Elements(L_temp,Induced_Difference(y,X))\n",
        "    PLACE(L_temp1,X1,width)\n",
        "\n",
        "  if set(Induced_Difference(width - y,X)) <= set(L_temp) :\n",
        "    X2 = np.sort(np.append(X,width - y))\n",
        "    L_temp2 = Remove_Elements(L_temp,Induced_Difference(width - y,X))\n",
        "    PLACE(L_temp2,X2,width)\n",
        "\n",
        "  return\n",
        "\n",
        "\n",
        "    \n",
        "def Remove_Elements(arr1,arr2) :\n",
        "  \n",
        "  C = Counter(arr1) - Counter(arr2)\n",
        "  temp = []\n",
        "  \n",
        "  for i in C.keys() :\n",
        "    temp.append(C[i]*[i])\n",
        "\n",
        "  res = np.array([item for sublist in temp for item in sublist])\n",
        "  return res\n",
        "\n"
      ],
      "execution_count": null,
      "outputs": []
    },
    {
      "cell_type": "code",
      "source": [
        "PDP_efficient(L1)"
      ],
      "metadata": {
        "id": "UOzj904sYQf_",
        "colab": {
          "base_uri": "https://localhost:8080/"
        },
        "outputId": "a72348cf-5969-4ce6-91e8-4e7b5d45b6e8"
      },
      "execution_count": null,
      "outputs": [
        {
          "output_type": "stream",
          "name": "stdout",
          "text": [
            "[ 0  3  6  8 10]\n",
            "[ 0  2  4  7 10]\n"
          ]
        }
      ]
    },
    {
      "cell_type": "code",
      "source": [
        "PDP_efficient(L2)"
      ],
      "metadata": {
        "id": "8tMkICMkq7Py"
      },
      "execution_count": null,
      "outputs": []
    },
    {
      "cell_type": "code",
      "source": [
        "PDP_efficient(L_takehome)"
      ],
      "metadata": {
        "colab": {
          "base_uri": "https://localhost:8080/"
        },
        "id": "6lBp8vRE26WW",
        "outputId": "fd353195-fc6c-460b-fe8a-408852571f76"
      },
      "execution_count": null,
      "outputs": [
        {
          "output_type": "stream",
          "name": "stdout",
          "text": [
            "[ 0  6  9 10 11 12 15]\n",
            "[ 0  6  9 10 11 12 15]\n",
            "[ 0  3  4  5  6  9 15]\n",
            "[ 0  3  4  5  6  9 15]\n"
          ]
        }
      ]
    }
  ]
}