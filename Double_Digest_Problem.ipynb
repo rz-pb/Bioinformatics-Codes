{
  "nbformat": 4,
  "nbformat_minor": 0,
  "metadata": {
    "colab": {
      "name": "Double Digest Problem.ipynb",
      "provenance": [],
      "collapsed_sections": [],
      "toc_visible": true,
      "authorship_tag": "ABX9TyMfSz3ox2JcIFCLCqsV0ubw",
      "include_colab_link": true
    },
    "kernelspec": {
      "name": "python3",
      "display_name": "Python 3"
    },
    "language_info": {
      "name": "python"
    }
  },
  "cells": [
    {
      "cell_type": "markdown",
      "metadata": {
        "id": "view-in-github",
        "colab_type": "text"
      },
      "source": [
        "<a href=\"https://colab.research.google.com/github/rz-pb/Bioinformatics-Codes/blob/main/Double_Digest_Problem.ipynb\" target=\"_parent\"><img src=\"https://colab.research.google.com/assets/colab-badge.svg\" alt=\"Open In Colab\"/></a>"
      ]
    },
    {
      "cell_type": "markdown",
      "source": [
        "# Double Digest Problem\n",
        "\n",
        "<p align = \"justify\"><i>Double Digest mapping</i> is a restriction mapping technique that is even simpler (experimentally) than a partial digest but uses two different restriction enzymes. In this approach, biologists digest DNA in such a way that only fragments between <u>consecutive</u> sites are formed. One way to construct a double digest map is to measure the fragment lengths (but not the order) from a complete digestion of the DNA by each of the two enzymes singly, and then by the two enzymes applied together. The problem of determining the positions of the cuts from fragment length data is known as the <i>Double Digest problem</i>, or <b>DDP</b>.</p>"
      ],
      "metadata": {
        "id": "IAReam1gbETK"
      }
    },
    {
      "cell_type": "markdown",
      "source": [
        "![DDP-Fragments.png](data:image/png;base64,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)\n",
        "\n"
      ],
      "metadata": {
        "id": "lCwoRD4gX8qA"
      }
    },
    {
      "cell_type": "code",
      "source": [
        "import itertools"
      ],
      "metadata": {
        "id": "EC6eoCpaKvJY"
      },
      "execution_count": null,
      "outputs": []
    },
    {
      "cell_type": "code",
      "source": [
        "# Fragment lengths' lists\n",
        "\n",
        "# Enzyme A applied \n",
        "DA = [6, 5, 4, 1, 2]\n",
        "\n",
        "# Enzyme B applied\n",
        "DB = [3, 8, 3, 1, 3]\n",
        "\n",
        "# Both Enzymes A and B applied\n",
        "DC = [1, 2, 2, 5, 1, 3, 2, 1, 1]"
      ],
      "metadata": {
        "id": "7-_KAF88QiUL"
      },
      "execution_count": null,
      "outputs": []
    },
    {
      "cell_type": "markdown",
      "source": [
        "## Preliminary Functions "
      ],
      "metadata": {
        "id": "uUXAA0sHyqQM"
      }
    },
    {
      "cell_type": "code",
      "execution_count": null,
      "metadata": {
        "id": "aEDWfNIBHQhf"
      },
      "outputs": [],
      "source": [
        "# Functon for constructing a fragment length list based on restriction enzyme\n",
        "# cutting sites \n",
        "\n",
        "def Consecutive_Difference(A) :\n",
        "  A = list(A)\n",
        "  A.sort()\n",
        "  Cons_Diff = []\n",
        "  for i in range (1,len(A)) :\n",
        "    Cons_Diff.append(A[i] - A[i-1])\n",
        "\n",
        "  return Cons_Diff\n"
      ]
    },
    {
      "cell_type": "code",
      "source": [
        "# Function for reconstructing the restriction enzyme cutting sites based on\n",
        "# an ordered list of fragment lenghs\n",
        "\n",
        "def Reconst_BasedOn_Ordered_Diff(DA) :\n",
        "  A = []\n",
        "  A.append(0)\n",
        "  \n",
        "  temp = 0\n",
        "  for i in range(0,len(DA)) :\n",
        "    temp += DA[i]\n",
        "    A.append(temp)\n",
        "\n",
        "  return A\n"
      ],
      "metadata": {
        "id": "rUXlqvQaJVJW"
      },
      "execution_count": null,
      "outputs": []
    },
    {
      "cell_type": "markdown",
      "source": [
        "## Brute Force Approach"
      ],
      "metadata": {
        "id": "UAyIb3l5YpIq"
      }
    },
    {
      "cell_type": "code",
      "source": [
        "# Function to DDP using a brute-force approach. It returns the location of \n",
        "# restriction enzyme sites (if any) for A and B, otherwise it returns a pair of\n",
        "# empy lists indicating \"not found!\"\n",
        "\n",
        "def BruteForce_DDP(DA,DB,DC) :\n",
        "\n",
        "  DA_permlist = list(list(elem) for  elem in itertools.permutations(DA))\n",
        "  DB_permlist = list(list(elem) for  elem in itertools.permutations(DB))\n",
        "  \n",
        "  for DA_perm in DA_permlist :\n",
        "    A_candidate = Reconst_BasedOn_Ordered_Diff(DA_perm)\n",
        "    for DB_perm in DB_permlist :\n",
        "      B_candidate = Reconst_BasedOn_Ordered_Diff(DB_perm)\n",
        "      \n",
        "      A_candidate_set = set(A_candidate)\n",
        "      B_candidate_Set = set(B_candidate)\n",
        "      A_union_B = list(A_candidate_set.union(B_candidate))\n",
        "\n",
        "      if DC == Consecutive_Difference(A_union_B) : \n",
        "        return A_candidate , B_candidate\n",
        "\n",
        "  return [] , []\n"
      ],
      "metadata": {
        "id": "UH0hSNN1RFKr"
      },
      "execution_count": null,
      "outputs": []
    },
    {
      "cell_type": "code",
      "source": [
        "BruteForce_DDP(DA,DB,DC)"
      ],
      "metadata": {
        "colab": {
          "base_uri": "https://localhost:8080/"
        },
        "id": "yXMIwLeSVDSm",
        "outputId": "ff12b179-606c-4f58-fafe-b50fb0e1f894"
      },
      "execution_count": null,
      "outputs": [
        {
          "output_type": "execute_result",
          "data": {
            "text/plain": [
              "([0, 1, 5, 10, 16, 18], [0, 3, 11, 14, 17, 18])"
            ]
          },
          "metadata": {},
          "execution_count": 6
        }
      ]
    }
  ]
}