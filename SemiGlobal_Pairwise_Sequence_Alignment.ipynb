{
  "nbformat": 4,
  "nbformat_minor": 0,
  "metadata": {
    "colab": {
      "name": "SemiGlobal Pairwise Sequence Alignment.ipynb",
      "provenance": [],
      "collapsed_sections": [],
      "authorship_tag": "ABX9TyMsK5n2d0LdvwaPIO0tCrx9",
      "include_colab_link": true
    },
    "kernelspec": {
      "name": "python3",
      "display_name": "Python 3"
    },
    "language_info": {
      "name": "python"
    }
  },
  "cells": [
    {
      "cell_type": "markdown",
      "metadata": {
        "id": "view-in-github",
        "colab_type": "text"
      },
      "source": [
        "<a href=\"https://colab.research.google.com/github/rz-pb/Bioinformatics-Codes/blob/main/SemiGlobal_Pairwise_Sequence_Alignment.ipynb\" target=\"_parent\"><img src=\"https://colab.research.google.com/assets/colab-badge.svg\" alt=\"Open In Colab\"/></a>"
      ]
    },
    {
      "cell_type": "markdown",
      "source": [
        "# SemiGlobal Pairwise Sequence Alignment"
      ],
      "metadata": {
        "id": "S7OpZi3bUyWc"
      }
    },
    {
      "cell_type": "code",
      "execution_count": null,
      "metadata": {
        "id": "tRqDs6cx9qtF"
      },
      "outputs": [],
      "source": [
        "import numpy as np\n",
        "np.set_printoptions(linewidth=200)"
      ]
    },
    {
      "cell_type": "markdown",
      "source": [
        "# Bottom-up Fashion"
      ],
      "metadata": {
        "id": "q_0STkvCDbdA"
      }
    },
    {
      "cell_type": "code",
      "source": [
        "V = \"TACGGGTAT\"\n",
        "W = \"GGACGTACG\"\n",
        "\n",
        "# Gap Penalty\n",
        "d = 1\n",
        "\n",
        "# Scoring Matrix\n",
        "Scoring_Matrix = np.array([[ 1,    -1,      -1,     -1],\n",
        "                           [-1,     1,      -1,     -1],\n",
        "                           [-1,    -1,       1,     -1],\n",
        "                           [-1,    -1,      -1,      1]])\n",
        " \n",
        "\n",
        "\n",
        "\n",
        "\n",
        "# In case you want to check another example, call function SGPSA_DP_BU with following data:\n",
        "\n",
        "X = \"CTCTGCCTCTG\"\n",
        "Y = \"CACTCCTGATG\"\n",
        "\n",
        "# Gap Penalty\n",
        "Another_d = 2\n",
        "\n",
        "# Scoring Matrix\n",
        "Another_Scoring_Matrix = np.array([[ 1,    -1,      -1,      0],\n",
        "                                   [-1,     1,      -1,     -1],\n",
        "                                   [-1,    -1,       1,     -1],\n",
        "                                   [ 0,    -1,      -1,      1]])"
      ],
      "metadata": {
        "id": "zoRWWl1qMhe1"
      },
      "execution_count": null,
      "outputs": []
    },
    {
      "cell_type": "code",
      "source": [
        "def Score(v,u,Score_Matrix) :\n",
        "  \n",
        "  Residue_Index = {'A' : 0 , 'C' : 1 , 'G' : 2 , 'T' : 3}\n",
        "  return Score_Matrix[Residue_Index[v],Residue_Index[u]]"
      ],
      "metadata": {
        "id": "1o0X0XCHLTZd"
      },
      "execution_count": null,
      "outputs": []
    },
    {
      "cell_type": "code",
      "source": [
        "def DP_tables(X,Y) :\n",
        "  \n",
        "  SGPSA_BU_table_temp = np.full((len(Y)+1,len(X)+1), -1)\n",
        "\n",
        "  SGPSA_BU_operations_table_temp = (len(Y)+1)*(len(X)+1)*[\"E\"]\n",
        "  SGPSA_BU_operations_table_temp = np.array(SGPSA_BU_operations_table_temp , dtype=str)\n",
        "  SGPSA_BU_operations_table_temp = np.reshape(SGPSA_BU_operations_table_temp,(len(Y)+1,len(X)+1))\n",
        "\n",
        "  return (SGPSA_BU_table_temp , SGPSA_BU_operations_table_temp) "
      ],
      "metadata": {
        "id": "1brQbpz6e0-x"
      },
      "execution_count": null,
      "outputs": []
    },
    {
      "cell_type": "code",
      "source": [
        "def SGPSA_DP_BU(X,Y,S,d) :\n",
        "\n",
        "\n",
        "  SGPSA_BU_table , SGPSA_BU_operations_table = DP_tables(X,Y)\n",
        "  \n",
        "  \n",
        "\n",
        "  for i in range(0,len(Y)+1) :\n",
        "    for j in range(0,len(X)+1) :\n",
        "      \n",
        "      if i == 0 and j == 0 :\n",
        "        SGPSA_BU_table[i,j] = 0\n",
        "        SGPSA_BU_operations_table[i,j] = \"N\"\n",
        "\n",
        "      if i == 0 and j != 0 :\n",
        "        SGPSA_BU_table[i,j] = 0\n",
        "        SGPSA_BU_operations_table[i,j] = \"D\"   # DELETE\n",
        "      \n",
        "      if j == 0 and i != 0 :\n",
        "        SGPSA_BU_table[i,j] = 0\n",
        "        SGPSA_BU_operations_table[i,j] = \"I\"   # INSERT\n",
        "\n",
        "\n",
        "      \n",
        "      if i > 0 and j > 0 :\n",
        "\n",
        "\n",
        "          SGPSA_BU_table[i,j] = max( SGPSA_BU_table[i-1,j-1] + Score(X[j-1],Y[i-1],S) , SGPSA_BU_table[i,j-1] - d , SGPSA_BU_table[i-1,j] - d )\n",
        "          \n",
        "          if SGPSA_BU_table[i,j] == SGPSA_BU_table[i-1,j-1] + Score(X[j-1],Y[i-1],S) :\n",
        "            SGPSA_BU_operations_table[i,j] = \"S\" # SUBSTITUTION\n",
        "\n",
        "          if SGPSA_BU_table[i,j] == SGPSA_BU_table[i,j-1] - d :\n",
        "            SGPSA_BU_operations_table[i,j] = \"D\" # DELETE\n",
        "\n",
        "          if SGPSA_BU_table[i,j] == SGPSA_BU_table[i-1,j] - d :\n",
        "            SGPSA_BU_operations_table[i,j] = \"I\" # INSERT\n",
        "            \n",
        "\n",
        "  return (SGPSA_BU_table , SGPSA_BU_operations_table , max(SGPSA_BU_table[-1,:]))"
      ],
      "metadata": {
        "id": "WzAlIOw7DMHi"
      },
      "execution_count": null,
      "outputs": []
    },
    {
      "cell_type": "code",
      "source": [
        "optimal_value_table , optimal_solution_table ,global_optimal_value = SGPSA_DP_BU(V,W,Scoring_Matrix,d)"
      ],
      "metadata": {
        "id": "2JAG0yoQkYqa"
      },
      "execution_count": null,
      "outputs": []
    },
    {
      "cell_type": "code",
      "source": [
        "optimal_value_table"
      ],
      "metadata": {
        "colab": {
          "base_uri": "https://localhost:8080/"
        },
        "id": "NsZRLQT9k_Pk",
        "outputId": "4a93272c-70db-4231-d121-be62405b33ac"
      },
      "execution_count": null,
      "outputs": [
        {
          "output_type": "execute_result",
          "data": {
            "text/plain": [
              "array([[ 0,  0,  0,  0,  0,  0,  0,  0,  0,  0],\n",
              "       [ 0, -1, -1, -1,  1,  1,  1,  0, -1, -1],\n",
              "       [ 0, -1, -2, -2,  0,  2,  2,  1,  0, -1],\n",
              "       [ 0, -1,  0, -1, -1,  1,  1,  1,  2,  1],\n",
              "       [ 0, -1, -1,  1,  0,  0,  0,  0,  1,  1],\n",
              "       [ 0, -1, -2,  0,  2,  1,  1,  0,  0,  0],\n",
              "       [ 0,  1,  0, -1,  1,  1,  0,  2,  1,  1],\n",
              "       [ 0,  0,  2,  1,  0,  0,  0,  1,  3,  2],\n",
              "       [ 0, -1,  1,  3,  2,  1,  0,  0,  2,  2],\n",
              "       [ 0, -1,  0,  2,  4,  3,  2,  1,  1,  1]])"
            ]
          },
          "metadata": {},
          "execution_count": 47
        }
      ]
    },
    {
      "cell_type": "code",
      "source": [
        "optimal_solution_table"
      ],
      "metadata": {
        "colab": {
          "base_uri": "https://localhost:8080/"
        },
        "id": "tUvYVd2ilEOn",
        "outputId": "737891d6-7011-4452-de7c-3016843f0b97"
      },
      "execution_count": null,
      "outputs": [
        {
          "output_type": "execute_result",
          "data": {
            "text/plain": [
              "array([['N', 'D', 'D', 'D', 'D', 'D', 'D', 'D', 'D', 'D'],\n",
              "       ['I', 'I', 'I', 'I', 'S', 'S', 'S', 'D', 'I', 'I'],\n",
              "       ['I', 'D', 'I', 'I', 'I', 'S', 'S', 'D', 'D', 'D'],\n",
              "       ['I', 'D', 'S', 'D', 'I', 'I', 'I', 'S', 'S', 'D'],\n",
              "       ['I', 'D', 'I', 'S', 'D', 'I', 'I', 'I', 'I', 'S'],\n",
              "       ['I', 'D', 'I', 'I', 'S', 'D', 'S', 'D', 'I', 'I'],\n",
              "       ['I', 'S', 'D', 'I', 'I', 'S', 'I', 'S', 'D', 'S'],\n",
              "       ['I', 'I', 'S', 'D', 'I', 'I', 'S', 'I', 'S', 'D'],\n",
              "       ['I', 'I', 'I', 'S', 'D', 'D', 'D', 'I', 'I', 'S'],\n",
              "       ['I', 'D', 'I', 'I', 'S', 'D', 'D', 'D', 'I', 'I']], dtype='<U1')"
            ]
          },
          "metadata": {},
          "execution_count": 48
        }
      ]
    },
    {
      "cell_type": "code",
      "source": [
        "global_optimal_value"
      ],
      "metadata": {
        "colab": {
          "base_uri": "https://localhost:8080/"
        },
        "id": "7FG8kchllgYe",
        "outputId": "3726b528-5651-47e1-e89a-fb9e357a40c1"
      },
      "execution_count": null,
      "outputs": [
        {
          "output_type": "execute_result",
          "data": {
            "text/plain": [
              "4"
            ]
          },
          "metadata": {},
          "execution_count": 49
        }
      ]
    },
    {
      "cell_type": "code",
      "source": [
        "sgv = \"ACAGATA\"\n",
        "sgw = \"AGT\"\n",
        "\n",
        "SGPSA_DP_BU(sgv,sgw,Scoring_Matrix,d)"
      ],
      "metadata": {
        "colab": {
          "base_uri": "https://localhost:8080/"
        },
        "id": "kxija4odwtcg",
        "outputId": "92601034-847a-44cc-9eda-2f7f649a8808"
      },
      "execution_count": null,
      "outputs": [
        {
          "output_type": "execute_result",
          "data": {
            "text/plain": [
              "(array([[ 0,  0,  0,  0,  0,  0,  0,  0],\n",
              "        [ 0,  1,  0,  1,  0,  1,  0,  1],\n",
              "        [ 0,  0,  0,  0,  2,  1,  0,  0],\n",
              "        [ 0, -1, -1, -1,  1,  1,  2,  1]]),\n",
              " array([['N', 'D', 'D', 'D', 'D', 'D', 'D', 'D'],\n",
              "        ['I', 'S', 'D', 'S', 'D', 'S', 'D', 'S'],\n",
              "        ['I', 'I', 'S', 'I', 'S', 'D', 'D', 'I'],\n",
              "        ['I', 'I', 'I', 'I', 'I', 'S', 'S', 'D']], dtype='<U1'),\n",
              " 2)"
            ]
          },
          "metadata": {},
          "execution_count": 50
        }
      ]
    }
  ]
}