{
  "nbformat": 4,
  "nbformat_minor": 0,
  "metadata": {
    "colab": {
      "name": "Levenshtein-Distance.ipynb",
      "provenance": [],
      "collapsed_sections": [],
      "authorship_tag": "ABX9TyM4JNU4V6KRqg0bOCr1tqnt",
      "include_colab_link": true
    },
    "kernelspec": {
      "name": "python3",
      "display_name": "Python 3"
    },
    "language_info": {
      "name": "python"
    }
  },
  "cells": [
    {
      "cell_type": "markdown",
      "metadata": {
        "id": "view-in-github",
        "colab_type": "text"
      },
      "source": [
        "<a href=\"https://colab.research.google.com/github/rz-pb/Bioinformatics-Codes/blob/main/Levenshtein_Distance.ipynb\" target=\"_parent\"><img src=\"https://colab.research.google.com/assets/colab-badge.svg\" alt=\"Open In Colab\"/></a>"
      ]
    },
    {
      "cell_type": "markdown",
      "source": [
        "# Levenshtein Distance\n",
        "<p align = \"justify\">In information theory, linguistics, and computer science, the Levenshtein distance is a string metric for measuring the difference between two sequences. Informally, the Levenshtein distance between two words is the minimum number of single-character edits required to change one word into the other.</p>"
      ],
      "metadata": {
        "id": "byM2PpZu8Dmw"
      }
    },
    {
      "cell_type": "code",
      "execution_count": null,
      "metadata": {
        "id": "lwa65IP53-Qj"
      },
      "outputs": [],
      "source": [
        "import numpy as np\n",
        "np.set_printoptions(linewidth=200)"
      ]
    },
    {
      "cell_type": "code",
      "source": [
        "X = \"astrophysics\"\n",
        "Y = \"prospective\""
      ],
      "metadata": {
        "id": "nNm4EPAa4F8-"
      },
      "execution_count": null,
      "outputs": []
    },
    {
      "cell_type": "markdown",
      "source": [
        "## Naive Recursion"
      ],
      "metadata": {
        "id": "0oeW_ZUu7xpG"
      }
    },
    {
      "cell_type": "code",
      "source": [
        "def LD_RE(A,B) :\n",
        "  \n",
        "  if len(A) == 0 :\n",
        "    return len(B)\n",
        "\n",
        "  if len(B) == 0 :\n",
        "    return len(A)  \n",
        "\n",
        "  if A[-1] == B[-1] :\n",
        "    return LD_RE(A[0:-1] , B[0:-1])\n",
        "\n",
        "\n",
        "  return 1 + min( LD_RE(A[0:-1],B[0:-1]) , LD_RE(A,B[0:-1]) , LD_RE(A[0:-1],B) )"
      ],
      "metadata": {
        "id": "m6lhYx3h4lNq"
      },
      "execution_count": null,
      "outputs": []
    },
    {
      "cell_type": "code",
      "source": [
        "LD_RE(X,Y)"
      ],
      "metadata": {
        "colab": {
          "base_uri": "https://localhost:8080/"
        },
        "id": "bX0dJ-bl5lxu",
        "outputId": "ff69cf1f-c7d9-4988-ecfb-21279d9056c2"
      },
      "execution_count": null,
      "outputs": [
        {
          "output_type": "execute_result",
          "data": {
            "text/plain": [
              "9"
            ]
          },
          "metadata": {},
          "execution_count": 5
        }
      ]
    },
    {
      "cell_type": "markdown",
      "source": [
        "## Dynamic Programming\n"
      ],
      "metadata": {
        "id": "GGU5tpCa7-0D"
      }
    },
    {
      "cell_type": "markdown",
      "source": [
        "### Bottom-up\n"
      ],
      "metadata": {
        "id": "blJThuA9B6zs"
      }
    },
    {
      "cell_type": "code",
      "source": [
        "LD_BU = np.full((len(Y)+1,len(X)+1), -1)\n",
        "\n",
        "LD_BU_operations = (len(Y)+1)*(len(X)+1)*[\"E\"]\n",
        "LD_BU_operations = np.array(LD_BU_operations , dtype=str)\n",
        "LD_BU_operations = np.reshape(LD_BU_operations,(len(Y)+1,len(X)+1))\n",
        "\n",
        "\n",
        "def LD_DP_BU(A,B) :\n",
        "\n",
        "\n",
        "  global LD_BU\n",
        "  \n",
        "\n",
        "  for i in range(0,len(B)+1) :\n",
        "    for j in range(0,len(A)+1) :\n",
        "      \n",
        "      if i == 0 and j == 0 :\n",
        "        LD_BU[i,j] = 0\n",
        "        LD_BU_operations[i,j] = \"N\"\n",
        "\n",
        "      if i == 0 and j != 0 :\n",
        "        LD_BU[i,j] = j\n",
        "        LD_BU_operations[i,j] = \"D\"   # DELETE\n",
        "      \n",
        "      if j == 0 and i != 0 :\n",
        "        LD_BU[i,j] = i\n",
        "        LD_BU_operations[i,j] = \"I\"   # INSERT\n",
        "\n",
        "\n",
        "      \n",
        "      if i > 0 and j > 0 :\n",
        "\n",
        "        if A[j-1] == B[i-1] :\n",
        "          LD_BU[i,j] = LD_BU[i-1,j-1]\n",
        "          LD_BU_operations[i,j] = \"N\"  # NOTHING\n",
        "\n",
        "        else :\n",
        "          LD_BU[i,j] = min( LD_BU[i-1,j-1] + 1 , LD_BU[i,j-1] + 1 , LD_BU[i-1,j] + 1 )\n",
        "          \n",
        "          if LD_BU[i,j] == LD_BU[i-1,j-1] + 1 :\n",
        "            LD_BU_operations[i,j] = \"S\" # SUBSTITUTION\n",
        "\n",
        "          if LD_BU[i,j] == LD_BU[i,j-1] + 1 :\n",
        "            LD_BU_operations[i,j] = \"D\" # DELETE\n",
        "\n",
        "          if LD_BU[i,j] == LD_BU[i-1,j] + 1 :\n",
        "            LD_BU_operations[i,j] = \"I\" # INSERT\n",
        "            \n",
        "\n",
        "  return LD_BU[-1,-1]\n",
        "\n",
        "\n",
        "\n",
        "\n"
      ],
      "metadata": {
        "id": "ein7pMSkB6H9"
      },
      "execution_count": null,
      "outputs": []
    },
    {
      "cell_type": "code",
      "source": [
        "LD_DP_BU(X,Y)"
      ],
      "metadata": {
        "colab": {
          "base_uri": "https://localhost:8080/"
        },
        "id": "MBCqlRWOKg0r",
        "outputId": "11b4114f-e181-4aa2-f54c-64937f01ccbf"
      },
      "execution_count": null,
      "outputs": [
        {
          "output_type": "execute_result",
          "data": {
            "text/plain": [
              "9"
            ]
          },
          "metadata": {},
          "execution_count": 7
        }
      ]
    },
    {
      "cell_type": "code",
      "source": [
        "LD_BU"
      ],
      "metadata": {
        "colab": {
          "base_uri": "https://localhost:8080/"
        },
        "id": "DC5CLiPsKa8x",
        "outputId": "1f8a4ae5-cd13-4d39-b0e1-e02287ffc9b3"
      },
      "execution_count": null,
      "outputs": [
        {
          "output_type": "execute_result",
          "data": {
            "text/plain": [
              "array([[ 0,  1,  2,  3,  4,  5,  6,  7,  8,  9, 10, 11, 12],\n",
              "       [ 1,  1,  2,  3,  4,  5,  5,  6,  7,  8,  9, 10, 11],\n",
              "       [ 2,  2,  2,  3,  3,  4,  5,  6,  7,  8,  9, 10, 11],\n",
              "       [ 3,  3,  3,  3,  4,  3,  4,  5,  6,  7,  8,  9, 10],\n",
              "       [ 4,  4,  3,  4,  4,  4,  4,  5,  6,  6,  7,  8,  9],\n",
              "       [ 5,  5,  4,  4,  5,  5,  4,  5,  6,  7,  7,  8,  9],\n",
              "       [ 6,  6,  5,  5,  5,  6,  5,  5,  6,  7,  8,  8,  9],\n",
              "       [ 7,  7,  6,  6,  6,  6,  6,  6,  6,  7,  8,  8,  9],\n",
              "       [ 8,  8,  7,  6,  7,  7,  7,  7,  7,  7,  8,  9,  9],\n",
              "       [ 9,  9,  8,  7,  7,  8,  8,  8,  8,  8,  7,  8,  9],\n",
              "       [10, 10,  9,  8,  8,  8,  9,  9,  9,  9,  8,  8,  9],\n",
              "       [11, 11, 10,  9,  9,  9,  9, 10, 10, 10,  9,  9,  9]])"
            ]
          },
          "metadata": {},
          "execution_count": 8
        }
      ]
    },
    {
      "cell_type": "code",
      "source": [
        "LD_BU_operations"
      ],
      "metadata": {
        "colab": {
          "base_uri": "https://localhost:8080/"
        },
        "id": "mGh82bxTYe76",
        "outputId": "cd4536af-23aa-47f5-906a-f58793661f3b"
      },
      "execution_count": null,
      "outputs": [
        {
          "output_type": "execute_result",
          "data": {
            "text/plain": [
              "array([['N', 'D', 'D', 'D', 'D', 'D', 'D', 'D', 'D', 'D', 'D', 'D', 'D'],\n",
              "       ['I', 'S', 'D', 'D', 'D', 'D', 'N', 'D', 'D', 'D', 'D', 'D', 'D'],\n",
              "       ['I', 'I', 'S', 'D', 'N', 'D', 'D', 'D', 'D', 'D', 'D', 'D', 'D'],\n",
              "       ['I', 'I', 'I', 'S', 'I', 'N', 'D', 'D', 'D', 'D', 'D', 'D', 'D'],\n",
              "       ['I', 'I', 'N', 'I', 'S', 'I', 'S', 'D', 'D', 'N', 'D', 'D', 'N'],\n",
              "       ['I', 'I', 'I', 'S', 'I', 'I', 'N', 'D', 'D', 'I', 'S', 'D', 'D'],\n",
              "       ['I', 'I', 'I', 'I', 'S', 'I', 'I', 'S', 'D', 'D', 'I', 'S', 'D'],\n",
              "       ['I', 'I', 'I', 'I', 'I', 'S', 'I', 'I', 'S', 'D', 'D', 'N', 'D'],\n",
              "       ['I', 'I', 'I', 'N', 'I', 'I', 'I', 'I', 'I', 'S', 'D', 'I', 'S'],\n",
              "       ['I', 'I', 'I', 'I', 'S', 'I', 'I', 'I', 'I', 'I', 'N', 'D', 'D'],\n",
              "       ['I', 'I', 'I', 'I', 'I', 'S', 'I', 'I', 'I', 'I', 'I', 'S', 'D'],\n",
              "       ['I', 'I', 'I', 'I', 'I', 'I', 'S', 'I', 'I', 'I', 'I', 'I', 'S']], dtype='<U1')"
            ]
          },
          "metadata": {},
          "execution_count": 9
        }
      ]
    },
    {
      "cell_type": "markdown",
      "source": [
        "### Top-down with Memoization"
      ],
      "metadata": {
        "id": "1Xd2LjGm95CP"
      }
    },
    {
      "cell_type": "code",
      "source": [
        "LD_TD = np.full((len(Y)+1,len(X)+1), -1)\n",
        "\n",
        "LD_TD_operations = (len(Y)+1)*(len(X)+1)*[\"E\"]\n",
        "LD_TD_operations = np.array(LD_TD_operations , dtype=str)\n",
        "LD_TD_operations = np.reshape(LD_TD_operations,(len(Y)+1,len(X)+1))\n",
        "\n",
        "def LD_DP_TD(A,B) :\n",
        "  \n",
        "  global LD_TD\n",
        "\n",
        "  if LD_TD[len(B),len(A)] < 0 :\n",
        "\n",
        "    if len(A) == 0  and len(B) == 0 :\n",
        "      LD_TD[len(B),len(A)] = 0\n",
        "      LD_TD_operations[len(B),len(A)] = \"N\"\n",
        "\n",
        "\n",
        "    if len(B) == 0 and len(A) != 0 :\n",
        "      # LD_TD[len(B),len(A)] = len(A)\n",
        "      LD_TD[len(B),len(A)] = LD_DP_TD(A[0:-1],B) + 1\n",
        "      LD_TD_operations[len(B),len(A)] = \"D\"\n",
        "\n",
        "    if len(A) == 0 and len(B) != 0 :\n",
        "      # LD_TD[len(B),len(A)] = len(B)\n",
        "      LD_TD[len(B),len(A)] = LD_DP_TD(A,B[0:-1]) + 1\n",
        "      LD_TD_operations[len(B),len(A)] = \"I\"\n",
        "\n",
        "\n",
        "    \n",
        "    if len(A) > 0 and len(B) > 0 :\n",
        "    \n",
        "      if A[-1] == B[-1] :\n",
        "        LD_TD[len(B),len(A)] = LD_DP_TD(A[0:-1] , B[0:-1])\n",
        "        LD_TD_operations[len(B),len(A)] = \"N\"\n",
        "\n",
        "\n",
        "      else :\n",
        "        LD_TD[len(B),len(A)] = min( LD_DP_TD(A[0:-1],B[0:-1]) + 1 , LD_DP_TD(A,B[0:-1]) + 1 , LD_DP_TD(A[0:-1],B) + 1 )\n",
        "\n",
        "        if LD_TD[len(B),len(A)] == (1 + LD_DP_TD(A[0:-1],B[0:-1]) ) :\n",
        "          LD_TD_operations[len(B),len(A)] = \"S\"\n",
        "\n",
        "        if LD_TD[len(B),len(A)] == (1 + LD_DP_TD(A[0:-1],B) ) :\n",
        "          LD_TD_operations[len(B),len(A)] = \"D\"\n",
        "        \n",
        "        if LD_TD[len(B),len(A)] == (1 + LD_DP_TD(A,B[0:-1]) ) :\n",
        "          LD_TD_operations[len(B),len(A)] = \"I\"\n",
        "\n",
        "        \n",
        "\n",
        "\n",
        "\n",
        "\n",
        "  return LD_TD[len(B),len(A)]"
      ],
      "metadata": {
        "id": "cK__n1Ky8NY9"
      },
      "execution_count": null,
      "outputs": []
    },
    {
      "cell_type": "code",
      "source": [
        "LD_DP_TD(X,Y)"
      ],
      "metadata": {
        "colab": {
          "base_uri": "https://localhost:8080/"
        },
        "id": "U1jzsKS-tVbY",
        "outputId": "420d759f-4feb-4480-b355-90130806dd36"
      },
      "execution_count": null,
      "outputs": [
        {
          "output_type": "execute_result",
          "data": {
            "text/plain": [
              "9"
            ]
          },
          "metadata": {},
          "execution_count": 11
        }
      ]
    },
    {
      "cell_type": "code",
      "source": [
        "LD_TD"
      ],
      "metadata": {
        "colab": {
          "base_uri": "https://localhost:8080/"
        },
        "id": "6RscRSepwdqX",
        "outputId": "74448eae-d227-4aba-81d7-fc1c1311343d"
      },
      "execution_count": null,
      "outputs": [
        {
          "output_type": "execute_result",
          "data": {
            "text/plain": [
              "array([[ 0,  1,  2,  3,  4,  5,  6,  7,  8,  9, 10, 11, -1],\n",
              "       [ 1,  1,  2,  3,  4,  5,  5,  6,  7,  8,  9, 10, -1],\n",
              "       [ 2,  2,  2,  3,  3,  4,  5,  6,  7,  8,  9, 10, -1],\n",
              "       [ 3,  3,  3,  3,  4,  3,  4,  5,  6,  7,  8,  9, -1],\n",
              "       [ 4,  4,  3,  4,  4,  4,  4,  5,  6,  6,  7,  8,  9],\n",
              "       [ 5,  5,  4,  4,  5,  5,  4,  5,  6,  7,  7,  8,  9],\n",
              "       [ 6,  6,  5,  5,  5,  6,  5,  5,  6,  7,  8,  8,  9],\n",
              "       [ 7,  7,  6,  6,  6,  6,  6,  6,  6,  7,  8,  8,  9],\n",
              "       [ 8,  8,  7,  6,  7,  7,  7,  7,  7,  7,  8,  9,  9],\n",
              "       [ 9,  9,  8,  7,  7,  8,  8,  8,  8,  8,  7,  8,  9],\n",
              "       [10, 10,  9,  8,  8,  8,  9,  9,  9,  9,  8,  8,  9],\n",
              "       [11, 11, 10,  9,  9,  9,  9, 10, 10, 10,  9,  9,  9]])"
            ]
          },
          "metadata": {},
          "execution_count": 12
        }
      ]
    },
    {
      "cell_type": "code",
      "source": [
        "LD_TD == LD_BU"
      ],
      "metadata": {
        "colab": {
          "base_uri": "https://localhost:8080/"
        },
        "id": "MjVRpTRU0PCh",
        "outputId": "fde2cecb-a955-4a2d-dd9e-f7d440ed67f5"
      },
      "execution_count": null,
      "outputs": [
        {
          "output_type": "execute_result",
          "data": {
            "text/plain": [
              "array([[ True,  True,  True,  True,  True,  True,  True,  True,  True,  True,  True,  True, False],\n",
              "       [ True,  True,  True,  True,  True,  True,  True,  True,  True,  True,  True,  True, False],\n",
              "       [ True,  True,  True,  True,  True,  True,  True,  True,  True,  True,  True,  True, False],\n",
              "       [ True,  True,  True,  True,  True,  True,  True,  True,  True,  True,  True,  True, False],\n",
              "       [ True,  True,  True,  True,  True,  True,  True,  True,  True,  True,  True,  True,  True],\n",
              "       [ True,  True,  True,  True,  True,  True,  True,  True,  True,  True,  True,  True,  True],\n",
              "       [ True,  True,  True,  True,  True,  True,  True,  True,  True,  True,  True,  True,  True],\n",
              "       [ True,  True,  True,  True,  True,  True,  True,  True,  True,  True,  True,  True,  True],\n",
              "       [ True,  True,  True,  True,  True,  True,  True,  True,  True,  True,  True,  True,  True],\n",
              "       [ True,  True,  True,  True,  True,  True,  True,  True,  True,  True,  True,  True,  True],\n",
              "       [ True,  True,  True,  True,  True,  True,  True,  True,  True,  True,  True,  True,  True],\n",
              "       [ True,  True,  True,  True,  True,  True,  True,  True,  True,  True,  True,  True,  True]])"
            ]
          },
          "metadata": {},
          "execution_count": 13
        }
      ]
    },
    {
      "cell_type": "code",
      "source": [
        "LD_TD_operations"
      ],
      "metadata": {
        "colab": {
          "base_uri": "https://localhost:8080/"
        },
        "id": "NWiPVXiNyW-u",
        "outputId": "a0956a28-9316-40ad-c1f4-310c68bc9af2"
      },
      "execution_count": null,
      "outputs": [
        {
          "output_type": "execute_result",
          "data": {
            "text/plain": [
              "array([['N', 'D', 'D', 'D', 'D', 'D', 'D', 'D', 'D', 'D', 'D', 'D', 'E'],\n",
              "       ['I', 'S', 'D', 'D', 'D', 'D', 'N', 'D', 'D', 'D', 'D', 'D', 'E'],\n",
              "       ['I', 'I', 'S', 'D', 'N', 'D', 'D', 'D', 'D', 'D', 'D', 'D', 'E'],\n",
              "       ['I', 'I', 'I', 'S', 'I', 'N', 'D', 'D', 'D', 'D', 'D', 'D', 'E'],\n",
              "       ['I', 'I', 'N', 'I', 'S', 'I', 'S', 'D', 'D', 'N', 'D', 'D', 'N'],\n",
              "       ['I', 'I', 'I', 'S', 'I', 'I', 'N', 'D', 'D', 'I', 'S', 'D', 'D'],\n",
              "       ['I', 'I', 'I', 'I', 'S', 'I', 'I', 'S', 'D', 'D', 'I', 'S', 'D'],\n",
              "       ['I', 'I', 'I', 'I', 'I', 'S', 'I', 'I', 'S', 'D', 'D', 'N', 'D'],\n",
              "       ['I', 'I', 'I', 'N', 'I', 'I', 'I', 'I', 'I', 'S', 'D', 'I', 'S'],\n",
              "       ['I', 'I', 'I', 'I', 'S', 'I', 'I', 'I', 'I', 'I', 'N', 'D', 'D'],\n",
              "       ['I', 'I', 'I', 'I', 'I', 'S', 'I', 'I', 'I', 'I', 'I', 'S', 'D'],\n",
              "       ['I', 'I', 'I', 'I', 'I', 'I', 'S', 'I', 'I', 'I', 'I', 'I', 'S']], dtype='<U1')"
            ]
          },
          "metadata": {},
          "execution_count": 14
        }
      ]
    },
    {
      "cell_type": "code",
      "source": [
        "LD_BU_operations == LD_TD_operations"
      ],
      "metadata": {
        "colab": {
          "base_uri": "https://localhost:8080/"
        },
        "id": "TxK4h93dydCl",
        "outputId": "ba23c2ab-59d0-4ca9-e497-50d5a35eb969"
      },
      "execution_count": null,
      "outputs": [
        {
          "output_type": "execute_result",
          "data": {
            "text/plain": [
              "array([[ True,  True,  True,  True,  True,  True,  True,  True,  True,  True,  True,  True, False],\n",
              "       [ True,  True,  True,  True,  True,  True,  True,  True,  True,  True,  True,  True, False],\n",
              "       [ True,  True,  True,  True,  True,  True,  True,  True,  True,  True,  True,  True, False],\n",
              "       [ True,  True,  True,  True,  True,  True,  True,  True,  True,  True,  True,  True, False],\n",
              "       [ True,  True,  True,  True,  True,  True,  True,  True,  True,  True,  True,  True,  True],\n",
              "       [ True,  True,  True,  True,  True,  True,  True,  True,  True,  True,  True,  True,  True],\n",
              "       [ True,  True,  True,  True,  True,  True,  True,  True,  True,  True,  True,  True,  True],\n",
              "       [ True,  True,  True,  True,  True,  True,  True,  True,  True,  True,  True,  True,  True],\n",
              "       [ True,  True,  True,  True,  True,  True,  True,  True,  True,  True,  True,  True,  True],\n",
              "       [ True,  True,  True,  True,  True,  True,  True,  True,  True,  True,  True,  True,  True],\n",
              "       [ True,  True,  True,  True,  True,  True,  True,  True,  True,  True,  True,  True,  True],\n",
              "       [ True,  True,  True,  True,  True,  True,  True,  True,  True,  True,  True,  True,  True]])"
            ]
          },
          "metadata": {},
          "execution_count": 15
        }
      ]
    }
  ]
}