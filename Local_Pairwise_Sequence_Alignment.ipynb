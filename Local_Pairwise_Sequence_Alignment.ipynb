{
  "nbformat": 4,
  "nbformat_minor": 0,
  "metadata": {
    "colab": {
      "name": "Local Pairwise Sequence Alignment.ipynb",
      "provenance": [],
      "collapsed_sections": [],
      "toc_visible": true,
      "authorship_tag": "ABX9TyN7nzeBepwkyPNmJhly+vm/",
      "include_colab_link": true
    },
    "kernelspec": {
      "name": "python3",
      "display_name": "Python 3"
    },
    "language_info": {
      "name": "python"
    }
  },
  "cells": [
    {
      "cell_type": "markdown",
      "metadata": {
        "id": "view-in-github",
        "colab_type": "text"
      },
      "source": [
        "<a href=\"https://colab.research.google.com/github/rz-pb/Bioinformatics-Codes/blob/main/Local_Pairwise_Sequence_Alignment.ipynb\" target=\"_parent\"><img src=\"https://colab.research.google.com/assets/colab-badge.svg\" alt=\"Open In Colab\"/></a>"
      ]
    },
    {
      "cell_type": "markdown",
      "source": [
        "# Local Pairwise Sequence Alignment"
      ],
      "metadata": {
        "id": "fpqoTTFFTu8l"
      }
    },
    {
      "cell_type": "code",
      "execution_count": 1,
      "metadata": {
        "id": "tRqDs6cx9qtF"
      },
      "outputs": [],
      "source": [
        "import numpy as np\n",
        "np.set_printoptions(linewidth=200)"
      ]
    },
    {
      "cell_type": "code",
      "source": [
        "V = \"TACGGGTAT\"\n",
        "W = \"GGACGTACG\"\n",
        "\n",
        "# Gap Penalty\n",
        "d = 1\n",
        "\n",
        "# Scoring Matrix\n",
        "Scoring_Matrix = np.array([[ 1,    -1,      -1,     -1],\n",
        "                           [-1,     1,      -1,     -1],\n",
        "                           [-1,    -1,       1,     -1],\n",
        "                           [-1,    -1,      -1,      1]])\n",
        " \n",
        "\n",
        "\n",
        "\n",
        "\n",
        "# In case you want to check another example, call function LPSA_DP_BU with following data:\n",
        "\n",
        "X = \"CTCTGCCTCTG\"\n",
        "Y = \"CACTCCTGATG\"\n",
        "\n",
        "# Gap Penalty\n",
        "Another_d = 2\n",
        "\n",
        "# Scoring Matrix\n",
        "Another_Scoring_Matrix = np.array([[ 1,    -1,      -1,      0],\n",
        "                                   [-1,     1,      -1,     -1],\n",
        "                                   [-1,    -1,       1,     -1],\n",
        "                                   [ 0,    -1,      -1,      1]])"
      ],
      "metadata": {
        "id": "zoRWWl1qMhe1"
      },
      "execution_count": 2,
      "outputs": []
    },
    {
      "cell_type": "code",
      "source": [
        "def Score(v,u,Score_Matrix) :\n",
        "  \n",
        "  Residue_Index = {'A' : 0 , 'C' : 1 , 'G' : 2 , 'T' : 3}\n",
        "  return Score_Matrix[Residue_Index[v],Residue_Index[u]]"
      ],
      "metadata": {
        "id": "1o0X0XCHLTZd"
      },
      "execution_count": 3,
      "outputs": []
    },
    {
      "cell_type": "code",
      "source": [
        "def LPSA_DP_tables(X,Y) :\n",
        "  \n",
        "  LPSA_BU_table_temp = np.full((len(Y)+1,len(X)+1), -1)\n",
        "\n",
        "  LPSA_BU_operations_table_temp = (len(Y)+1)*(len(X)+1)*[\"E\"]\n",
        "  LPSA_BU_operations_table_temp = np.array(LPSA_BU_operations_table_temp , dtype=str)\n",
        "  LPSA_BU_operations_table_temp = np.reshape(LPSA_BU_operations_table_temp,(len(Y)+1,len(X)+1))\n",
        "\n",
        "  return (LPSA_BU_table_temp , LPSA_BU_operations_table_temp) "
      ],
      "metadata": {
        "id": "1brQbpz6e0-x"
      },
      "execution_count": 4,
      "outputs": []
    },
    {
      "cell_type": "code",
      "source": [
        "def LPSA_DP_BU(X,Y,S,d) :\n",
        "\n",
        "\n",
        "  LPSA_BU_table , LPSA_BU_operations_table = LPSA_DP_tables(X,Y)\n",
        "  \n",
        "  \n",
        "\n",
        "  for i in range(0,len(Y)+1) :\n",
        "    for j in range(0,len(X)+1) :\n",
        "      \n",
        "      if i == 0 and j == 0 :\n",
        "        LPSA_BU_table[i,j] = 0\n",
        "        LPSA_BU_operations_table[i,j] = \"N\"\n",
        "\n",
        "      if i == 0 and j != 0 :\n",
        "        LPSA_BU_table[i,j] = max(0 , -1 * j * d)\n",
        "        \n",
        "        if LPSA_BU_table[i,j] == -1 * j * d :\n",
        "          LPSA_BU_operations_table[i,j] = \"D\"   # DELETE\n",
        "\n",
        "        if LPSA_BU_table[i,j] == 0 :\n",
        "          LPSA_BU_operations_table[i,j] = \"N\" # NONE\n",
        "\n",
        "      \n",
        "      if j == 0 and i != 0 :\n",
        "        LPSA_BU_table[i,j] = max(0 , -1 * i * d)\n",
        "        \n",
        "        if LPSA_BU_table[i,j] == -1 * i * d :\n",
        "          LPSA_BU_operations_table[i,j] = \"I\"   # INSERT\n",
        "\n",
        "        if LPSA_BU_table[i,j] == 0 :\n",
        "          LPSA_BU_operations_table[i,j] = \"N\" # NONE  \n",
        "\n",
        "\n",
        "      \n",
        "      if i > 0 and j > 0 :\n",
        "\n",
        "\n",
        "          LPSA_BU_table[i,j] = max( 0 , LPSA_BU_table[i-1,j-1] + Score(X[j-1],Y[i-1],S) , LPSA_BU_table[i,j-1] - d , LPSA_BU_table[i-1,j] - d )\n",
        "          \n",
        "          if LPSA_BU_table[i,j] == LPSA_BU_table[i-1,j-1] + Score(X[j-1],Y[i-1],S) :\n",
        "            LPSA_BU_operations_table[i,j] = \"S\" # SUBSTITUTION\n",
        "\n",
        "          if LPSA_BU_table[i,j] == LPSA_BU_table[i,j-1] - d :\n",
        "            LPSA_BU_operations_table[i,j] = \"D\" # DELETE\n",
        "\n",
        "          if LPSA_BU_table[i,j] == LPSA_BU_table[i-1,j] - d :\n",
        "            LPSA_BU_operations_table[i,j] = \"I\" # INSERT\n",
        "\n",
        "          if LPSA_BU_table[i,j] == 0 :\n",
        "            LPSA_BU_operations_table[i,j] = \"N\" # NONE\n",
        "\n",
        "            \n",
        "\n",
        "  return (LPSA_BU_table , LPSA_BU_operations_table , LPSA_BU_table.max())"
      ],
      "metadata": {
        "id": "WzAlIOw7DMHi"
      },
      "execution_count": 5,
      "outputs": []
    },
    {
      "cell_type": "code",
      "source": [
        "local_optimal_value_table , local_optimal_solution_table ,local_optimal_value = LPSA_DP_BU(V,W,Scoring_Matrix,d)"
      ],
      "metadata": {
        "id": "2JAG0yoQkYqa"
      },
      "execution_count": 6,
      "outputs": []
    },
    {
      "cell_type": "code",
      "source": [
        "local_optimal_value_table"
      ],
      "metadata": {
        "colab": {
          "base_uri": "https://localhost:8080/"
        },
        "id": "NsZRLQT9k_Pk",
        "outputId": "c300fa19-0af8-4dea-daa0-80241e23a5e1"
      },
      "execution_count": 7,
      "outputs": [
        {
          "output_type": "execute_result",
          "data": {
            "text/plain": [
              "array([[0, 0, 0, 0, 0, 0, 0, 0, 0, 0],\n",
              "       [0, 0, 0, 0, 1, 1, 1, 0, 0, 0],\n",
              "       [0, 0, 0, 0, 1, 2, 2, 1, 0, 0],\n",
              "       [0, 0, 1, 0, 0, 1, 1, 1, 2, 1],\n",
              "       [0, 0, 0, 2, 1, 0, 0, 0, 1, 1],\n",
              "       [0, 0, 0, 1, 3, 2, 1, 0, 0, 0],\n",
              "       [0, 1, 0, 0, 2, 2, 1, 2, 1, 1],\n",
              "       [0, 0, 2, 1, 1, 1, 1, 1, 3, 2],\n",
              "       [0, 0, 1, 3, 2, 1, 0, 0, 2, 2],\n",
              "       [0, 0, 0, 2, 4, 3, 2, 1, 1, 1]])"
            ]
          },
          "metadata": {},
          "execution_count": 7
        }
      ]
    },
    {
      "cell_type": "code",
      "source": [
        "local_optimal_solution_table"
      ],
      "metadata": {
        "colab": {
          "base_uri": "https://localhost:8080/"
        },
        "id": "tUvYVd2ilEOn",
        "outputId": "5c44af98-8643-4422-8aae-9f7cc6a1e987"
      },
      "execution_count": 8,
      "outputs": [
        {
          "output_type": "execute_result",
          "data": {
            "text/plain": [
              "array([['N', 'N', 'N', 'N', 'N', 'N', 'N', 'N', 'N', 'N'],\n",
              "       ['N', 'N', 'N', 'N', 'S', 'S', 'S', 'N', 'N', 'N'],\n",
              "       ['N', 'N', 'N', 'N', 'S', 'S', 'S', 'D', 'N', 'N'],\n",
              "       ['N', 'N', 'S', 'N', 'N', 'I', 'I', 'S', 'S', 'D'],\n",
              "       ['N', 'N', 'N', 'S', 'D', 'N', 'N', 'N', 'I', 'S'],\n",
              "       ['N', 'N', 'N', 'I', 'S', 'D', 'D', 'N', 'N', 'N'],\n",
              "       ['N', 'S', 'N', 'N', 'I', 'S', 'D', 'S', 'D', 'S'],\n",
              "       ['N', 'N', 'S', 'D', 'I', 'I', 'S', 'I', 'S', 'D'],\n",
              "       ['N', 'N', 'I', 'S', 'D', 'D', 'N', 'N', 'I', 'S'],\n",
              "       ['N', 'N', 'N', 'I', 'S', 'D', 'D', 'D', 'I', 'I']], dtype='<U1')"
            ]
          },
          "metadata": {},
          "execution_count": 8
        }
      ]
    },
    {
      "cell_type": "code",
      "source": [
        "local_optimal_value"
      ],
      "metadata": {
        "colab": {
          "base_uri": "https://localhost:8080/"
        },
        "id": "7FG8kchllgYe",
        "outputId": "e882238e-0280-40bd-a4ff-54211279d6d6"
      },
      "execution_count": 9,
      "outputs": [
        {
          "output_type": "execute_result",
          "data": {
            "text/plain": [
              "4"
            ]
          },
          "metadata": {},
          "execution_count": 9
        }
      ]
    }
  ]
}