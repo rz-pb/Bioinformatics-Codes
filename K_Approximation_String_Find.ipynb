{
  "nbformat": 4,
  "nbformat_minor": 0,
  "metadata": {
    "colab": {
      "name": "K-Approximation-String-Find.ipynb",
      "provenance": [],
      "collapsed_sections": [],
      "authorship_tag": "ABX9TyPFWO3nrPmjZo7pQmEXZI7c",
      "include_colab_link": true
    },
    "kernelspec": {
      "name": "python3",
      "display_name": "Python 3"
    },
    "language_info": {
      "name": "python"
    }
  },
  "cells": [
    {
      "cell_type": "markdown",
      "metadata": {
        "id": "view-in-github",
        "colab_type": "text"
      },
      "source": [
        "<a href=\"https://colab.research.google.com/github/rz-pb/Bioinformatics-Codes/blob/main/K_Approximation_String_Find.ipynb\" target=\"_parent\"><img src=\"https://colab.research.google.com/assets/colab-badge.svg\" alt=\"Open In Colab\"/></a>"
      ]
    },
    {
      "cell_type": "markdown",
      "source": [
        "# $k$-Approximation String Find Function\n",
        "<p align=\"justify\">Given a long text string $T$, one shorter pattern string $s$, and an integer $k$, find the first occurrence in $T$ of a string (if any) $s ^\\prime $ such that $ d_H(s, s^\\prime) \\le k$.\n",
        "<br>\n",
        " note: $ d_H(s_1,s_2) $ is the _Hamming distance_ between strings $s_1$ and $s_2$. In information theory, the Hamming distance between two strings of equal length is the number of positions at which the corresponding symbols are different.</p>\n"
      ],
      "metadata": {
        "id": "XR1KOBOnspgF"
      }
    },
    {
      "cell_type": "code",
      "execution_count": null,
      "metadata": {
        "id": "XOslusOWWTmY"
      },
      "outputs": [],
      "source": [
        "#sample text\n",
        "T = \"CACCCTAAACCCTAACCCCTAACCCTAACCCTAACCCTAACCCTAACCCTAACCCCTAAACCCTAACCCT\"    \n",
        "\n",
        "# sample patterns\n",
        "s1 = \"CCCCCC\"                                                                   \n",
        "s2 = \"AACCCCT\"\n",
        "\n",
        "# criteria\n",
        "k = 0                                                                           "
      ]
    },
    {
      "cell_type": "code",
      "source": [
        "def K_Approx_Find(T,s,k) :\n",
        "  \n",
        "  T_temp = T\n",
        "\n",
        "  n = len(T)\n",
        "  l = len(s)\n",
        "\n",
        "  for i in range(0,n-l+1):\n",
        "    \n",
        "    distance = 0\n",
        "    \n",
        "    for j in range(0,l) :\n",
        "      if s[j] != T[i+j] :\n",
        "        distance += 1\n",
        "\n",
        "    if distance <= k :\n",
        "      T_temp = T_temp[0:i] + \"[\" + T_temp[i:i+l] + \"]\" + T_temp[i+l:]\n",
        "      return (i , T_temp)\n",
        "\n",
        "  return (\"not found\", T_temp)"
      ],
      "metadata": {
        "id": "K0h5gaapWbOJ"
      },
      "execution_count": null,
      "outputs": []
    },
    {
      "cell_type": "code",
      "source": [
        "K_Approx_Find(T,s1,k)"
      ],
      "metadata": {
        "colab": {
          "base_uri": "https://localhost:8080/"
        },
        "id": "EMIe9RdyYgSY",
        "outputId": "ad44e7a4-1c73-46b3-aa3e-60223e7efaa1"
      },
      "execution_count": null,
      "outputs": [
        {
          "output_type": "execute_result",
          "data": {
            "text/plain": [
              "('not found',\n",
              " 'CACCCTAAACCCTAACCCCTAACCCTAACCCTAACCCTAACCCTAACCCTAACCCCTAAACCCTAACCCT')"
            ]
          },
          "metadata": {},
          "execution_count": 41
        }
      ]
    },
    {
      "cell_type": "code",
      "source": [
        "myindex , mystring = K_Approx_Find(T,s2,k)"
      ],
      "metadata": {
        "id": "_PwVFvU3xGKN"
      },
      "execution_count": null,
      "outputs": []
    },
    {
      "cell_type": "code",
      "source": [
        "mystring"
      ],
      "metadata": {
        "colab": {
          "base_uri": "https://localhost:8080/",
          "height": 35
        },
        "id": "GQLC_R1E2Q7v",
        "outputId": "05e9a747-9ba7-40f5-a010-0d3c23a74168"
      },
      "execution_count": null,
      "outputs": [
        {
          "output_type": "execute_result",
          "data": {
            "application/vnd.google.colaboratory.intrinsic+json": {
              "type": "string"
            },
            "text/plain": [
              "'CACCCTAAACCCT[AACCCCT]AACCCTAACCCTAACCCTAACCCTAACCCTAACCCCTAAACCCTAACCCT'"
            ]
          },
          "metadata": {},
          "execution_count": 58
        }
      ]
    }
  ]
}