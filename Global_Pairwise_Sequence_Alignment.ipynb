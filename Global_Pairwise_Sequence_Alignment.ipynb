{
  "nbformat": 4,
  "nbformat_minor": 0,
  "metadata": {
    "colab": {
      "name": "Global Pairwise Sequence Alignment.ipynb",
      "provenance": [],
      "collapsed_sections": [],
      "toc_visible": true,
      "authorship_tag": "ABX9TyODkTCDGHg6SfKSNtO13I36",
      "include_colab_link": true
    },
    "kernelspec": {
      "name": "python3",
      "display_name": "Python 3"
    },
    "language_info": {
      "name": "python"
    }
  },
  "cells": [
    {
      "cell_type": "markdown",
      "metadata": {
        "id": "view-in-github",
        "colab_type": "text"
      },
      "source": [
        "<a href=\"https://colab.research.google.com/github/rz-pb/Bioinformatics-Codes/blob/main/Global_Pairwise_Sequence_Alignment.ipynb\" target=\"_parent\"><img src=\"https://colab.research.google.com/assets/colab-badge.svg\" alt=\"Open In Colab\"/></a>"
      ]
    },
    {
      "cell_type": "markdown",
      "source": [
        "# Global Pairwise Sequence Alignment"
      ],
      "metadata": {
        "id": "IExyNBRLS5KY"
      }
    },
    {
      "cell_type": "markdown",
      "source": [
        ""
      ],
      "metadata": {
        "id": "5A9WiX0IS2Q6"
      }
    },
    {
      "cell_type": "code",
      "execution_count": null,
      "metadata": {
        "id": "tRqDs6cx9qtF"
      },
      "outputs": [],
      "source": [
        "import numpy as np\n",
        "np.set_printoptions(linewidth=200)"
      ]
    },
    {
      "cell_type": "markdown",
      "source": [
        "## Bottom-up Fashion"
      ],
      "metadata": {
        "id": "q_0STkvCDbdA"
      }
    },
    {
      "cell_type": "code",
      "source": [
        "V = \"TACGGGTAT\"\n",
        "W = \"GGACGTACG\"\n",
        "\n",
        "# Gap Penalty\n",
        "d = 1\n",
        "\n",
        "# Scoring Matrix\n",
        "Scoring_Matrix = np.array([[ 1,    -1,      -1,     -1],\n",
        "                           [-1,     1,      -1,     -1],\n",
        "                           [-1,    -1,       1,     -1],\n",
        "                           [-1,    -1,      -1,      1]])\n",
        " \n",
        "\n",
        "\n",
        "\n",
        "\n",
        "# In case you want to check another example, call function GPSA_DP_BU with following data:\n",
        "\n",
        "X = \"CTCTGCCTCTG\"\n",
        "Y = \"CACTCCTGATG\"\n",
        "\n",
        "# Gap Penalty\n",
        "Another_d = 2\n",
        "\n",
        "# Scoring Matrix\n",
        "Another_Scoring_Matrix = np.array([[ 1,    -1,      -1,      0],\n",
        "                                   [-1,     1,      -1,     -1],\n",
        "                                   [-1,    -1,       1,     -1],\n",
        "                                   [ 0,    -1,      -1,      1]])"
      ],
      "metadata": {
        "id": "zoRWWl1qMhe1"
      },
      "execution_count": null,
      "outputs": []
    },
    {
      "cell_type": "code",
      "source": [
        "def Score(v,u,Score_Matrix) :\n",
        "  \n",
        "  Residue_Index = {'A' : 0 , 'C' : 1 , 'G' : 2 , 'T' : 3}\n",
        "  return Score_Matrix[Residue_Index[v],Residue_Index[u]]"
      ],
      "metadata": {
        "id": "1o0X0XCHLTZd"
      },
      "execution_count": null,
      "outputs": []
    },
    {
      "cell_type": "code",
      "source": [
        "def DP_tables(X,Y) :\n",
        "  \n",
        "  GPSA_BU_table_temp = np.full((len(Y)+1,len(X)+1), -1)\n",
        "\n",
        "  GPSA_BU_operations_table_temp = (len(Y)+1)*(len(X)+1)*[\"E\"]\n",
        "  GPSA_BU_operations_table_temp = np.array(GPSA_BU_operations_table_temp , dtype=str)\n",
        "  GPSA_BU_operations_table_temp = np.reshape(GPSA_BU_operations_table_temp,(len(Y)+1,len(X)+1))\n",
        "\n",
        "  return (GPSA_BU_table_temp , GPSA_BU_operations_table_temp) "
      ],
      "metadata": {
        "id": "1brQbpz6e0-x"
      },
      "execution_count": null,
      "outputs": []
    },
    {
      "cell_type": "code",
      "source": [
        "def GPSA_DP_BU(X,Y,S,d) :\n",
        "\n",
        "\n",
        "  GPSA_BU_table , GPSA_BU_operations_table = DP_tables(X,Y)\n",
        "  \n",
        "  \n",
        "\n",
        "  for i in range(0,len(Y)+1) :\n",
        "    for j in range(0,len(X)+1) :\n",
        "      \n",
        "      if i == 0 and j == 0 :\n",
        "        GPSA_BU_table[i,j] = 0\n",
        "        GPSA_BU_operations_table[i,j] = \"N\"\n",
        "\n",
        "      if i == 0 and j != 0 :\n",
        "        GPSA_BU_table[i,j] = -1 * j * d\n",
        "        GPSA_BU_operations_table[i,j] = \"D\"   # DELETE\n",
        "      \n",
        "      if j == 0 and i != 0 :\n",
        "        GPSA_BU_table[i,j] = -1 * i * d\n",
        "        GPSA_BU_operations_table[i,j] = \"I\"   # INSERT\n",
        "\n",
        "\n",
        "      \n",
        "      if i > 0 and j > 0 :\n",
        "\n",
        "\n",
        "          GPSA_BU_table[i,j] = max( GPSA_BU_table[i-1,j-1] + Score(X[j-1],Y[i-1],S) , GPSA_BU_table[i,j-1] - d , GPSA_BU_table[i-1,j] - d )\n",
        "          \n",
        "          if GPSA_BU_table[i,j] == GPSA_BU_table[i-1,j-1] + Score(X[j-1],Y[i-1],S) :\n",
        "            GPSA_BU_operations_table[i,j] = \"S\" # SUBSTITUTION\n",
        "\n",
        "          if GPSA_BU_table[i,j] == GPSA_BU_table[i,j-1] - d :\n",
        "            GPSA_BU_operations_table[i,j] = \"D\" # DELETE\n",
        "\n",
        "          if GPSA_BU_table[i,j] == GPSA_BU_table[i-1,j] - d :\n",
        "            GPSA_BU_operations_table[i,j] = \"I\" # INSERT\n",
        "            \n",
        "\n",
        "  return (GPSA_BU_table , GPSA_BU_operations_table , GPSA_BU_table[-1,-1])"
      ],
      "metadata": {
        "id": "WzAlIOw7DMHi"
      },
      "execution_count": null,
      "outputs": []
    },
    {
      "cell_type": "code",
      "source": [
        "optimal_value_table , optimal_solution_table ,global_optimal_value = GPSA_DP_BU(V,W,Scoring_Matrix,d)"
      ],
      "metadata": {
        "id": "2JAG0yoQkYqa"
      },
      "execution_count": null,
      "outputs": []
    },
    {
      "cell_type": "code",
      "source": [
        "optimal_value_table"
      ],
      "metadata": {
        "colab": {
          "base_uri": "https://localhost:8080/"
        },
        "id": "NsZRLQT9k_Pk",
        "outputId": "872dee63-e0e2-441e-b862-4307dc066cdf"
      },
      "execution_count": null,
      "outputs": [
        {
          "output_type": "execute_result",
          "data": {
            "text/plain": [
              "array([[ 0, -1, -2, -3, -4, -5, -6, -7, -8, -9],\n",
              "       [-1, -1, -2, -3, -2, -3, -4, -5, -6, -7],\n",
              "       [-2, -2, -2, -3, -2, -1, -2, -3, -4, -5],\n",
              "       [-3, -3, -1, -2, -3, -2, -2, -3, -2, -3],\n",
              "       [-4, -4, -2,  0, -1, -2, -3, -3, -3, -3],\n",
              "       [-5, -5, -3, -1,  1,  0, -1, -2, -3, -4],\n",
              "       [-6, -4, -4, -2,  0,  0, -1,  0, -1, -2],\n",
              "       [-7, -5, -3, -3, -1, -1, -1, -1,  1,  0],\n",
              "       [-8, -6, -4, -2, -2, -2, -2, -2,  0,  0],\n",
              "       [-9, -7, -5, -3, -1, -1, -1, -2, -1, -1]])"
            ]
          },
          "metadata": {},
          "execution_count": 173
        }
      ]
    },
    {
      "cell_type": "code",
      "source": [
        "optimal_solution_table"
      ],
      "metadata": {
        "colab": {
          "base_uri": "https://localhost:8080/"
        },
        "id": "tUvYVd2ilEOn",
        "outputId": "895e79fc-e4fe-402b-ec83-a0d332f480c1"
      },
      "execution_count": null,
      "outputs": [
        {
          "output_type": "execute_result",
          "data": {
            "text/plain": [
              "array([['N', 'D', 'D', 'D', 'D', 'D', 'D', 'D', 'D', 'D'],\n",
              "       ['I', 'S', 'D', 'D', 'S', 'D', 'D', 'D', 'D', 'D'],\n",
              "       ['I', 'I', 'S', 'D', 'S', 'S', 'D', 'D', 'D', 'D'],\n",
              "       ['I', 'I', 'S', 'D', 'I', 'I', 'S', 'D', 'S', 'D'],\n",
              "       ['I', 'I', 'I', 'S', 'D', 'D', 'I', 'S', 'I', 'S'],\n",
              "       ['I', 'I', 'I', 'I', 'S', 'D', 'D', 'D', 'D', 'I'],\n",
              "       ['I', 'S', 'I', 'I', 'I', 'S', 'D', 'S', 'D', 'D'],\n",
              "       ['I', 'I', 'S', 'I', 'I', 'I', 'S', 'I', 'S', 'D'],\n",
              "       ['I', 'I', 'I', 'S', 'I', 'I', 'I', 'I', 'I', 'S'],\n",
              "       ['I', 'I', 'I', 'I', 'S', 'S', 'S', 'D', 'I', 'I']], dtype='<U1')"
            ]
          },
          "metadata": {},
          "execution_count": 174
        }
      ]
    },
    {
      "cell_type": "code",
      "source": [
        "global_optimal_value"
      ],
      "metadata": {
        "colab": {
          "base_uri": "https://localhost:8080/"
        },
        "id": "7FG8kchllgYe",
        "outputId": "0a137cfc-1200-4741-96ec-2a08ca3f2f97"
      },
      "execution_count": null,
      "outputs": [
        {
          "output_type": "execute_result",
          "data": {
            "text/plain": [
              "-1"
            ]
          },
          "metadata": {},
          "execution_count": 175
        }
      ]
    }
  ]
}