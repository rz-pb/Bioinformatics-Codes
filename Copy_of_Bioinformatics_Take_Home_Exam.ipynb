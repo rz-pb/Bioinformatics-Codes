{
  "nbformat": 4,
  "nbformat_minor": 0,
  "metadata": {
    "colab": {
      "name": "Copy of Bioinformatics-Take-Home-Exam.ipynb",
      "provenance": [],
      "collapsed_sections": [],
      "toc_visible": true,
      "include_colab_link": true
    },
    "kernelspec": {
      "name": "python3",
      "display_name": "Python 3"
    },
    "language_info": {
      "name": "python"
    }
  },
  "cells": [
    {
      "cell_type": "markdown",
      "metadata": {
        "id": "view-in-github",
        "colab_type": "text"
      },
      "source": [
        "<a href=\"https://colab.research.google.com/github/rz-pb/Bioinformatics-Codes/blob/main/Copy_of_Bioinformatics_Take_Home_Exam.ipynb\" target=\"_parent\"><img src=\"https://colab.research.google.com/assets/colab-badge.svg\" alt=\"Open In Colab\"/></a>"
      ]
    },
    {
      "cell_type": "code",
      "execution_count": 1,
      "metadata": {
        "id": "1sDKNoY5GFHp"
      },
      "outputs": [],
      "source": [
        "import numpy as np\n",
        "import itertools\n",
        "np.set_printoptions(linewidth=200)"
      ]
    },
    {
      "cell_type": "markdown",
      "source": [
        "# Problem 4.2\n",
        "Consider partial digest $ L = \\{1, 1, 1, 2, 2, 3, 3, 3, 4, 4, 5, 5, 6, 6, 6, 9, 9, 10, 11, 12, 15\\}$ . Solve the __Partial Digest problem__ for $L$ (i.e., find $X$ such that $\\Delta X = L$)."
      ],
      "metadata": {
        "id": "VL_ClOagOjLx"
      }
    },
    {
      "cell_type": "markdown",
      "source": [
        "## Answer\n",
        "<img src = \"https://drive.google.com/uc?id=1mII21UnzlKSZKts5pTeoskY9ce-afXj8\" >"
      ],
      "metadata": {
        "id": "l4hTaEvqmeFh"
      }
    },
    {
      "cell_type": "markdown",
      "source": [
        "# Problem 4.8\n",
        "Find a set $\\Delta X$ with the smallest number of elements that could have arisen from more than one $X$, not counting _shifts and reflections_."
      ],
      "metadata": {
        "id": "BaRTcu585ltC"
      }
    },
    {
      "cell_type": "markdown",
      "source": [
        "## Answer\n",
        "\n",
        "<img src = \"https://drive.google.com/uc?id=1rmlD2PStJZfACxdtP-1nmJMahjcCzsZK\" >\n",
        "\n",
        "<img src = \"https://drive.google.com/uc?id=1fRyelOuEw0PAkuS8kjRM6ANrPtRpcESZ\" >"
      ],
      "metadata": {
        "id": "UjZD9RTlpOR6"
      }
    },
    {
      "cell_type": "markdown",
      "source": [
        "# Problem 4.9\n",
        "\n",
        "Devise a brute force algorithm for the __DDP__ and suggest a branch-and-bound approach to improve its performance."
      ],
      "metadata": {
        "id": "e0giegntqH4w"
      }
    },
    {
      "cell_type": "markdown",
      "source": [
        "## Answer\n",
        "<img src = \"https://drive.google.com/uc?id=1YrXV1qlchu-tirkgUUAK025LKrmyjmE1\" >"
      ],
      "metadata": {
        "id": "f9Qxsi_LqMA3"
      }
    },
    {
      "cell_type": "markdown",
      "source": [
        "## Double Digest Problem\n",
        "\n",
        "<p align = \"justify\"><i>Double Digest mapping</i> is a restriction mapping technique that is even simpler (experimentally) than a partial digest but uses two different restriction enzymes. In this approach, biologists digest DNA in such a way that only fragments between <u>consecutive</u> sites are formed. One way to construct a double digest map is to measure the fragment lengths (but not the order) from a complete digestion of the DNA by each of the two enzymes singly, and then by the two enzymes applied together. The problem of determining the positions of the cuts from fragment length data is known as the <i>Double Digest problem</i>, or <b>DDP</b>.</p>"
      ],
      "metadata": {
        "id": "IAReam1gbETK"
      }
    },
    {
      "cell_type": "markdown",
      "source": [
        "![DDP-Fragments.png](data:image/png;base64,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)\n",
        "\n"
      ],
      "metadata": {
        "id": "lCwoRD4gX8qA"
      }
    },
    {
      "cell_type": "code",
      "source": [
        "# Fragment lengths' lists\n",
        "\n",
        "# Enzyme A applied \n",
        "DA = [6, 5, 4, 1, 2]\n",
        "\n",
        "# Enzyme B applied\n",
        "DB = [3, 8, 3, 1, 3]\n",
        "\n",
        "# Both Enzymes A and B applied\n",
        "DC = [1, 2, 2, 5, 1, 3, 2, 1, 1]"
      ],
      "metadata": {
        "id": "7-_KAF88QiUL"
      },
      "execution_count": 2,
      "outputs": []
    },
    {
      "cell_type": "markdown",
      "source": [
        "### Preliminary Functions "
      ],
      "metadata": {
        "id": "uUXAA0sHyqQM"
      }
    },
    {
      "cell_type": "code",
      "execution_count": 3,
      "metadata": {
        "id": "aEDWfNIBHQhf"
      },
      "outputs": [],
      "source": [
        "# Functon for constructing a fragment length list based on restriction enzyme\n",
        "# cutting sites \n",
        "\n",
        "def Consecutive_Difference(A) :\n",
        "  A = list(A)\n",
        "  A.sort()\n",
        "  Cons_Diff = []\n",
        "  for i in range (1,len(A)) :\n",
        "    Cons_Diff.append(A[i] - A[i-1])\n",
        "\n",
        "  return Cons_Diff\n"
      ]
    },
    {
      "cell_type": "code",
      "source": [
        "# Function for reconstructing the restriction enzyme cutting sites based on\n",
        "# an ordered list of fragment lenghs\n",
        "\n",
        "def Reconst_BasedOn_Ordered_Diff(DA) :\n",
        "  A = []\n",
        "  A.append(0)\n",
        "  \n",
        "  temp = 0\n",
        "  for i in range(0,len(DA)) :\n",
        "    temp += DA[i]\n",
        "    A.append(temp)\n",
        "\n",
        "  return A\n"
      ],
      "metadata": {
        "id": "rUXlqvQaJVJW"
      },
      "execution_count": 4,
      "outputs": []
    },
    {
      "cell_type": "markdown",
      "source": [
        "### Brute Force Approach"
      ],
      "metadata": {
        "id": "UAyIb3l5YpIq"
      }
    },
    {
      "cell_type": "code",
      "source": [
        "# Function to DDP using a brute-force approach. It returns the location of \n",
        "# restriction enzyme sites (if any) for A and B, otherwise it returns a pair of\n",
        "# empy lists indicating \"not found!\"\n",
        "\n",
        "def BruteForce_DDP(DA,DB,DC) :\n",
        "\n",
        "  DA_permlist = list(list(elem) for  elem in itertools.permutations(DA))\n",
        "  DB_permlist = list(list(elem) for  elem in itertools.permutations(DB))\n",
        "  \n",
        "  for DA_perm in DA_permlist :\n",
        "    A_candidate = Reconst_BasedOn_Ordered_Diff(DA_perm)\n",
        "    for DB_perm in DB_permlist :\n",
        "      B_candidate = Reconst_BasedOn_Ordered_Diff(DB_perm)\n",
        "      \n",
        "      A_candidate_set = set(A_candidate)\n",
        "      B_candidate_Set = set(B_candidate)\n",
        "      A_union_B = list(A_candidate_set.union(B_candidate))\n",
        "\n",
        "      if DC == Consecutive_Difference(A_union_B) : \n",
        "        return A_candidate , B_candidate\n",
        "\n",
        "  return [] , []\n"
      ],
      "metadata": {
        "id": "UH0hSNN1RFKr"
      },
      "execution_count": 5,
      "outputs": []
    },
    {
      "cell_type": "code",
      "source": [
        "BruteForce_DDP(DA,DB,DC)"
      ],
      "metadata": {
        "colab": {
          "base_uri": "https://localhost:8080/"
        },
        "id": "yXMIwLeSVDSm",
        "outputId": "3575126f-2fa5-4147-ba91-4aea75264c62"
      },
      "execution_count": 6,
      "outputs": [
        {
          "output_type": "execute_result",
          "data": {
            "text/plain": [
              "([0, 1, 5, 10, 16, 18], [0, 3, 11, 14, 17, 18])"
            ]
          },
          "metadata": {},
          "execution_count": 6
        }
      ]
    },
    {
      "cell_type": "markdown",
      "source": [
        "# Problem 4.13\n",
        "\n",
        "Given a long text string $T$, one shorter pattern string $s$, and an integer $k$, find the first occurrence in $T$ of a string (if any) $s ^\\prime $ such that $ d_H(s, s^\\prime) \\le k$.\n",
        "<br>\n",
        " note: $ d_H(s_1,s_2) $ is the _Hamming distance_ between strings $s_1$ and $s_2$. In information theory, the Hamming distance between two strings of equal length is the number of positions at which the corresponding symbols are different."
      ],
      "metadata": {
        "id": "MVs94k2j5rWQ"
      }
    },
    {
      "cell_type": "markdown",
      "source": [
        "## Answer\n",
        "\n",
        "<img src = \"https://drive.google.com/uc?id=1kxsrObYou0nHuzq1IN5VZ4rjtzyik317\" >"
      ],
      "metadata": {
        "id": "kPgx0h77pxTy"
      }
    },
    {
      "cell_type": "markdown",
      "source": [
        "## $k$-Approximation String Find Function"
      ],
      "metadata": {
        "id": "PjZFOUrA4iCp"
      }
    },
    {
      "cell_type": "code",
      "execution_count": 7,
      "metadata": {
        "id": "XOslusOWWTmY"
      },
      "outputs": [],
      "source": [
        "#sample text\n",
        "T = \"CACCCTAAACCCTAACCCCTAACCCTAACCCTAACCCTAACCCTAACCCTAACCCCTAAACCCTAACCCT\"    \n",
        "\n",
        "# sample patterns\n",
        "s1 = \"CCCCCC\"                                                                   \n",
        "s2 = \"AACCCCT\"\n",
        "\n",
        "# criteria\n",
        "k = 0                                                                           "
      ]
    },
    {
      "cell_type": "code",
      "source": [
        "def K_Approx_Find(T,s,k) :\n",
        "  \n",
        "  T_temp = T\n",
        "\n",
        "  n = len(T)\n",
        "  l = len(s)\n",
        "\n",
        "  for i in range(0,n-l+1):\n",
        "    \n",
        "    distance = 0\n",
        "    \n",
        "    for j in range(0,l) :\n",
        "      if s[j] != T[i+j] :\n",
        "        distance += 1\n",
        "\n",
        "    if distance <= k :\n",
        "      T_temp = T_temp[0:i] + \"[\" + T_temp[i:i+l] + \"]\" + T_temp[i+l:]\n",
        "      return (i , T_temp)\n",
        "\n",
        "  return (\"not found\", T_temp)"
      ],
      "metadata": {
        "id": "K0h5gaapWbOJ"
      },
      "execution_count": 8,
      "outputs": []
    },
    {
      "cell_type": "code",
      "source": [
        "K_Approx_Find(T,s1,k)"
      ],
      "metadata": {
        "colab": {
          "base_uri": "https://localhost:8080/"
        },
        "id": "EMIe9RdyYgSY",
        "outputId": "245fa1b2-b5f6-4ca3-ae68-a61238cdf24c"
      },
      "execution_count": 9,
      "outputs": [
        {
          "output_type": "execute_result",
          "data": {
            "text/plain": [
              "('not found',\n",
              " 'CACCCTAAACCCTAACCCCTAACCCTAACCCTAACCCTAACCCTAACCCTAACCCCTAAACCCTAACCCT')"
            ]
          },
          "metadata": {},
          "execution_count": 9
        }
      ]
    },
    {
      "cell_type": "code",
      "source": [
        "myindex , mystring = K_Approx_Find(T,s2,k)"
      ],
      "metadata": {
        "id": "_PwVFvU3xGKN"
      },
      "execution_count": 10,
      "outputs": []
    },
    {
      "cell_type": "code",
      "source": [
        "mystring"
      ],
      "metadata": {
        "colab": {
          "base_uri": "https://localhost:8080/",
          "height": 35
        },
        "id": "GQLC_R1E2Q7v",
        "outputId": "d60c4a63-ff20-4049-95d9-52bcb5897dc7"
      },
      "execution_count": 11,
      "outputs": [
        {
          "output_type": "execute_result",
          "data": {
            "application/vnd.google.colaboratory.intrinsic+json": {
              "type": "string"
            },
            "text/plain": [
              "'CACCCTAAACCCT[AACCCCT]AACCCTAACCCTAACCCTAACCCTAACCCTAACCCCTAAACCCTAACCCT'"
            ]
          },
          "metadata": {},
          "execution_count": 11
        }
      ]
    },
    {
      "cell_type": "code",
      "source": [
        "myindex"
      ],
      "metadata": {
        "colab": {
          "base_uri": "https://localhost:8080/"
        },
        "id": "ZY_JZK124UHC",
        "outputId": "17fa62be-ebd5-4c84-fa93-aa3d9f06153a"
      },
      "execution_count": 12,
      "outputs": [
        {
          "output_type": "execute_result",
          "data": {
            "text/plain": [
              "13"
            ]
          },
          "metadata": {},
          "execution_count": 12
        }
      ]
    },
    {
      "cell_type": "markdown",
      "source": [
        "# Problem 6.20\n",
        "\n",
        "Consider the sequences v = TACGGGTAT and w = GGACGTACG. Assume that the\n",
        "match premium is +1 and that the mismatch and indel penalties are −1."
      ],
      "metadata": {
        "id": "nLa_-N-UGOB5"
      }
    },
    {
      "cell_type": "markdown",
      "source": [
        "## Part 1\n",
        "Fill out the dynamic programming table for a __global alignment__ between v and w.\n",
        "Draw arrows in the cells to store the backtrack information. What is the score of\n",
        "the optimal global alignment and what alignment does this score correspond to?\n"
      ],
      "metadata": {
        "id": "iqIRqKDCHQZB"
      }
    },
    {
      "cell_type": "markdown",
      "source": [
        "### Answer\n",
        "\n",
        "<img src = \"https://drive.google.com/uc?id=1jjXRy1t4SSdOfuOA5oBKEaGZZm1Op0LV\" >\n",
        "<img src = \"https://drive.google.com/uc?id=1VzzTPJyluEwCG5JzlcZgoDVm1vWJ1A3v\" >"
      ],
      "metadata": {
        "id": "O2KHv9AAq5Ws"
      }
    },
    {
      "cell_type": "markdown",
      "source": [
        "### Global Pairwise Sequence Alignment (DP - Bottom-up)"
      ],
      "metadata": {
        "id": "mfYNE8A0MelU"
      }
    },
    {
      "cell_type": "code",
      "source": [
        "# Gap Penalty\n",
        "d = 1\n",
        "\n",
        "# Scoring Matrix\n",
        "Scoring_Matrix = np.array([[ 1,    -1,      -1,     -1],\n",
        "                           [-1,     1,      -1,     -1],\n",
        "                           [-1,    -1,       1,     -1],\n",
        "                           [-1,    -1,      -1,      1]])"
      ],
      "metadata": {
        "id": "zoRWWl1qMhe1"
      },
      "execution_count": 13,
      "outputs": []
    },
    {
      "cell_type": "code",
      "source": [
        "def Score(v,u,Score_Matrix) :\n",
        "  \n",
        "  Residue_Index = {'A' : 0 , 'C' : 1 , 'G' : 2 , 'T' : 3}\n",
        "  return Score_Matrix[Residue_Index[v],Residue_Index[u]]"
      ],
      "metadata": {
        "id": "1o0X0XCHLTZd"
      },
      "execution_count": 14,
      "outputs": []
    },
    {
      "cell_type": "code",
      "source": [
        "def GPSA_DP_tables(X,Y) :\n",
        "  \n",
        "  GPSA_BU_table_temp = np.full((len(Y)+1,len(X)+1), -1)\n",
        "\n",
        "  GPSA_BU_operations_table_temp = (len(Y)+1)*(len(X)+1)*[\"E\"]\n",
        "  GPSA_BU_operations_table_temp = np.array(GPSA_BU_operations_table_temp , dtype=str)\n",
        "  GPSA_BU_operations_table_temp = np.reshape(GPSA_BU_operations_table_temp,(len(Y)+1,len(X)+1))\n",
        "\n",
        "  return (GPSA_BU_table_temp , GPSA_BU_operations_table_temp) "
      ],
      "metadata": {
        "id": "1brQbpz6e0-x"
      },
      "execution_count": 15,
      "outputs": []
    },
    {
      "cell_type": "code",
      "source": [
        "def GPSA_DP_BU(X,Y,S,d) :\n",
        "\n",
        "\n",
        "  GPSA_BU_table , GPSA_BU_operations_table = GPSA_DP_tables(X,Y)\n",
        "  \n",
        "  \n",
        "\n",
        "  for i in range(0,len(Y)+1) :\n",
        "    for j in range(0,len(X)+1) :\n",
        "      \n",
        "      if i == 0 and j == 0 :\n",
        "        GPSA_BU_table[i,j] = 0\n",
        "        GPSA_BU_operations_table[i,j] = \"N\"\n",
        "\n",
        "      if i == 0 and j != 0 :\n",
        "        GPSA_BU_table[i,j] = -1 * j * d\n",
        "        GPSA_BU_operations_table[i,j] = \"D\"   # DELETE\n",
        "      \n",
        "      if j == 0 and i != 0 :\n",
        "        GPSA_BU_table[i,j] = -1 * i * d\n",
        "        GPSA_BU_operations_table[i,j] = \"I\"   # INSERT\n",
        "\n",
        "\n",
        "      \n",
        "      if i > 0 and j > 0 :\n",
        "\n",
        "\n",
        "          GPSA_BU_table[i,j] = max( GPSA_BU_table[i-1,j-1] + Score(X[j-1],Y[i-1],S) , GPSA_BU_table[i,j-1] - d , GPSA_BU_table[i-1,j] - d )\n",
        "          \n",
        "          if GPSA_BU_table[i,j] == GPSA_BU_table[i-1,j-1] + Score(X[j-1],Y[i-1],S) :\n",
        "            GPSA_BU_operations_table[i,j] = \"S\" # SUBSTITUTION\n",
        "\n",
        "          if GPSA_BU_table[i,j] == GPSA_BU_table[i,j-1] - d :\n",
        "            GPSA_BU_operations_table[i,j] = \"D\" # DELETE\n",
        "\n",
        "          if GPSA_BU_table[i,j] == GPSA_BU_table[i-1,j] - d :\n",
        "            GPSA_BU_operations_table[i,j] = \"I\" # INSERT\n",
        "            \n",
        "\n",
        "  return (GPSA_BU_table , GPSA_BU_operations_table , GPSA_BU_table[-1,-1])"
      ],
      "metadata": {
        "id": "WzAlIOw7DMHi"
      },
      "execution_count": 16,
      "outputs": []
    },
    {
      "cell_type": "code",
      "source": [
        "V = \"TACGGGTAT\"\n",
        "W = \"GGACGTACG\""
      ],
      "metadata": {
        "id": "osbyJ24yN7ci"
      },
      "execution_count": 17,
      "outputs": []
    },
    {
      "cell_type": "code",
      "source": [
        "global_optimal_value_table , global_optimal_solution_table ,global_optimal_value = GPSA_DP_BU(V,W,Scoring_Matrix,d)"
      ],
      "metadata": {
        "id": "2JAG0yoQkYqa"
      },
      "execution_count": 18,
      "outputs": []
    },
    {
      "cell_type": "code",
      "source": [
        "global_optimal_value_table"
      ],
      "metadata": {
        "colab": {
          "base_uri": "https://localhost:8080/"
        },
        "id": "NsZRLQT9k_Pk",
        "outputId": "90bd5b68-a382-4f48-cb32-b4addda4014a"
      },
      "execution_count": 19,
      "outputs": [
        {
          "output_type": "execute_result",
          "data": {
            "text/plain": [
              "array([[ 0, -1, -2, -3, -4, -5, -6, -7, -8, -9],\n",
              "       [-1, -1, -2, -3, -2, -3, -4, -5, -6, -7],\n",
              "       [-2, -2, -2, -3, -2, -1, -2, -3, -4, -5],\n",
              "       [-3, -3, -1, -2, -3, -2, -2, -3, -2, -3],\n",
              "       [-4, -4, -2,  0, -1, -2, -3, -3, -3, -3],\n",
              "       [-5, -5, -3, -1,  1,  0, -1, -2, -3, -4],\n",
              "       [-6, -4, -4, -2,  0,  0, -1,  0, -1, -2],\n",
              "       [-7, -5, -3, -3, -1, -1, -1, -1,  1,  0],\n",
              "       [-8, -6, -4, -2, -2, -2, -2, -2,  0,  0],\n",
              "       [-9, -7, -5, -3, -1, -1, -1, -2, -1, -1]])"
            ]
          },
          "metadata": {},
          "execution_count": 19
        }
      ]
    },
    {
      "cell_type": "code",
      "source": [
        "global_optimal_solution_table"
      ],
      "metadata": {
        "colab": {
          "base_uri": "https://localhost:8080/"
        },
        "id": "tUvYVd2ilEOn",
        "outputId": "ff2c3de8-7811-4aef-88c8-8e3c17e1e5c2"
      },
      "execution_count": 20,
      "outputs": [
        {
          "output_type": "execute_result",
          "data": {
            "text/plain": [
              "array([['N', 'D', 'D', 'D', 'D', 'D', 'D', 'D', 'D', 'D'],\n",
              "       ['I', 'S', 'D', 'D', 'S', 'D', 'D', 'D', 'D', 'D'],\n",
              "       ['I', 'I', 'S', 'D', 'S', 'S', 'D', 'D', 'D', 'D'],\n",
              "       ['I', 'I', 'S', 'D', 'I', 'I', 'S', 'D', 'S', 'D'],\n",
              "       ['I', 'I', 'I', 'S', 'D', 'D', 'I', 'S', 'I', 'S'],\n",
              "       ['I', 'I', 'I', 'I', 'S', 'D', 'D', 'D', 'D', 'I'],\n",
              "       ['I', 'S', 'I', 'I', 'I', 'S', 'D', 'S', 'D', 'D'],\n",
              "       ['I', 'I', 'S', 'I', 'I', 'I', 'S', 'I', 'S', 'D'],\n",
              "       ['I', 'I', 'I', 'S', 'I', 'I', 'I', 'I', 'I', 'S'],\n",
              "       ['I', 'I', 'I', 'I', 'S', 'S', 'S', 'D', 'I', 'I']], dtype='<U1')"
            ]
          },
          "metadata": {},
          "execution_count": 20
        }
      ]
    },
    {
      "cell_type": "code",
      "source": [
        "global_optimal_value"
      ],
      "metadata": {
        "colab": {
          "base_uri": "https://localhost:8080/"
        },
        "id": "7FG8kchllgYe",
        "outputId": "db0f2e79-b79e-4d70-dc97-f5eabcefee96"
      },
      "execution_count": 21,
      "outputs": [
        {
          "output_type": "execute_result",
          "data": {
            "text/plain": [
              "-1"
            ]
          },
          "metadata": {},
          "execution_count": 21
        }
      ]
    },
    {
      "cell_type": "markdown",
      "source": [
        "## Part 2\n",
        "Fill out the dynamic programming table for a __local alignment__ between v and w.\n",
        "Draw arrows in the cells to store the backtrack information. What is the score of\n",
        "the optimal local alignment in this case and what alignment achieves this score?"
      ],
      "metadata": {
        "id": "A78QTGLkZ3U9"
      }
    },
    {
      "cell_type": "markdown",
      "source": [
        "### Answer\n",
        "\n",
        "<img src = \"https://drive.google.com/uc?id=1J6Z2aZrjHlPkmUx9zq6XQxbJjz8RV3Ej\" >\n",
        "<img src = \"https://drive.google.com/uc?id=1MhtOlhiB3HTD7eT0PhfNHFM525u0-qnq\" >"
      ],
      "metadata": {
        "id": "hHRbUXn7rV1Y"
      }
    },
    {
      "cell_type": "markdown",
      "source": [
        "### Local Pairwise Sequence Alignment"
      ],
      "metadata": {
        "id": "5KaAD9Q0b95Q"
      }
    },
    {
      "cell_type": "code",
      "source": [
        "def LPSA_DP_tables(X,Y) :\n",
        "  \n",
        "  LPSA_BU_table_temp = np.full((len(Y)+1,len(X)+1), -1)\n",
        "\n",
        "  LPSA_BU_operations_table_temp = (len(Y)+1)*(len(X)+1)*[\"E\"]\n",
        "  LPSA_BU_operations_table_temp = np.array(LPSA_BU_operations_table_temp , dtype=str)\n",
        "  LPSA_BU_operations_table_temp = np.reshape(LPSA_BU_operations_table_temp,(len(Y)+1,len(X)+1))\n",
        "\n",
        "  return (LPSA_BU_table_temp , LPSA_BU_operations_table_temp) "
      ],
      "metadata": {
        "id": "XzKgbRM6M6Go"
      },
      "execution_count": 22,
      "outputs": []
    },
    {
      "cell_type": "code",
      "source": [
        "def LPSA_DP_BU(X,Y,S,d) :\n",
        "\n",
        "\n",
        "  LPSA_BU_table , LPSA_BU_operations_table = LPSA_DP_tables(X,Y)\n",
        "  \n",
        "  \n",
        "\n",
        "  for i in range(0,len(Y)+1) :\n",
        "    for j in range(0,len(X)+1) :\n",
        "      \n",
        "      if i == 0 and j == 0 :\n",
        "        LPSA_BU_table[i,j] = 0\n",
        "        LPSA_BU_operations_table[i,j] = \"N\"\n",
        "\n",
        "      if i == 0 and j != 0 :\n",
        "        LPSA_BU_table[i,j] = max(0 , -1 * j * d)\n",
        "        \n",
        "        if LPSA_BU_table[i,j] == -1 * j * d :\n",
        "          LPSA_BU_operations_table[i,j] = \"D\"   # DELETE\n",
        "\n",
        "        if LPSA_BU_table[i,j] == 0 :\n",
        "          LPSA_BU_operations_table[i,j] = \"N\" # NONE\n",
        "\n",
        "      \n",
        "      if j == 0 and i != 0 :\n",
        "        LPSA_BU_table[i,j] = max(0 , -1 * i * d)\n",
        "        \n",
        "        if LPSA_BU_table[i,j] == -1 * i * d :\n",
        "          LPSA_BU_operations_table[i,j] = \"I\"   # INSERT\n",
        "\n",
        "        if LPSA_BU_table[i,j] == 0 :\n",
        "          LPSA_BU_operations_table[i,j] = \"N\" # NONE  \n",
        "\n",
        "\n",
        "      \n",
        "      if i > 0 and j > 0 :\n",
        "\n",
        "\n",
        "          LPSA_BU_table[i,j] = max( 0 , LPSA_BU_table[i-1,j-1] + Score(X[j-1],Y[i-1],S) , LPSA_BU_table[i,j-1] - d , LPSA_BU_table[i-1,j] - d )\n",
        "          \n",
        "          if LPSA_BU_table[i,j] == LPSA_BU_table[i-1,j-1] + Score(X[j-1],Y[i-1],S) :\n",
        "            LPSA_BU_operations_table[i,j] = \"S\" # SUBSTITUTION\n",
        "\n",
        "          if LPSA_BU_table[i,j] == LPSA_BU_table[i,j-1] - d :\n",
        "            LPSA_BU_operations_table[i,j] = \"D\" # DELETE\n",
        "\n",
        "          if LPSA_BU_table[i,j] == LPSA_BU_table[i-1,j] - d :\n",
        "            LPSA_BU_operations_table[i,j] = \"I\" # INSERT\n",
        "\n",
        "          if LPSA_BU_table[i,j] == 0 :\n",
        "            LPSA_BU_operations_table[i,j] = \"N\" # NONE\n",
        "\n",
        "            \n",
        "\n",
        "  return (LPSA_BU_table , LPSA_BU_operations_table , LPSA_BU_table.max())"
      ],
      "metadata": {
        "id": "TfLCFE6_bc-r"
      },
      "execution_count": 23,
      "outputs": []
    },
    {
      "cell_type": "code",
      "source": [
        "local_optimal_value_table , local_optimal_solution_table ,local_optimal_value = LPSA_DP_BU(V,W,Scoring_Matrix,d)"
      ],
      "metadata": {
        "id": "lzFBHWLTbqIU"
      },
      "execution_count": 24,
      "outputs": []
    },
    {
      "cell_type": "code",
      "source": [
        "local_optimal_value_table"
      ],
      "metadata": {
        "colab": {
          "base_uri": "https://localhost:8080/"
        },
        "outputId": "1529c5c4-b66c-458e-e09a-1815f3a542c1",
        "id": "K3-6w4nlbvXH"
      },
      "execution_count": 25,
      "outputs": [
        {
          "output_type": "execute_result",
          "data": {
            "text/plain": [
              "array([[0, 0, 0, 0, 0, 0, 0, 0, 0, 0],\n",
              "       [0, 0, 0, 0, 1, 1, 1, 0, 0, 0],\n",
              "       [0, 0, 0, 0, 1, 2, 2, 1, 0, 0],\n",
              "       [0, 0, 1, 0, 0, 1, 1, 1, 2, 1],\n",
              "       [0, 0, 0, 2, 1, 0, 0, 0, 1, 1],\n",
              "       [0, 0, 0, 1, 3, 2, 1, 0, 0, 0],\n",
              "       [0, 1, 0, 0, 2, 2, 1, 2, 1, 1],\n",
              "       [0, 0, 2, 1, 1, 1, 1, 1, 3, 2],\n",
              "       [0, 0, 1, 3, 2, 1, 0, 0, 2, 2],\n",
              "       [0, 0, 0, 2, 4, 3, 2, 1, 1, 1]])"
            ]
          },
          "metadata": {},
          "execution_count": 25
        }
      ]
    },
    {
      "cell_type": "code",
      "source": [
        "local_optimal_solution_table"
      ],
      "metadata": {
        "colab": {
          "base_uri": "https://localhost:8080/"
        },
        "outputId": "4b6c375f-18e5-434b-e39f-f79c2dab4f71",
        "id": "w8eeBKkvbx_0"
      },
      "execution_count": 26,
      "outputs": [
        {
          "output_type": "execute_result",
          "data": {
            "text/plain": [
              "array([['N', 'N', 'N', 'N', 'N', 'N', 'N', 'N', 'N', 'N'],\n",
              "       ['N', 'N', 'N', 'N', 'S', 'S', 'S', 'N', 'N', 'N'],\n",
              "       ['N', 'N', 'N', 'N', 'S', 'S', 'S', 'D', 'N', 'N'],\n",
              "       ['N', 'N', 'S', 'N', 'N', 'I', 'I', 'S', 'S', 'D'],\n",
              "       ['N', 'N', 'N', 'S', 'D', 'N', 'N', 'N', 'I', 'S'],\n",
              "       ['N', 'N', 'N', 'I', 'S', 'D', 'D', 'N', 'N', 'N'],\n",
              "       ['N', 'S', 'N', 'N', 'I', 'S', 'D', 'S', 'D', 'S'],\n",
              "       ['N', 'N', 'S', 'D', 'I', 'I', 'S', 'I', 'S', 'D'],\n",
              "       ['N', 'N', 'I', 'S', 'D', 'D', 'N', 'N', 'I', 'S'],\n",
              "       ['N', 'N', 'N', 'I', 'S', 'D', 'D', 'D', 'I', 'I']], dtype='<U1')"
            ]
          },
          "metadata": {},
          "execution_count": 26
        }
      ]
    },
    {
      "cell_type": "code",
      "source": [
        "local_optimal_value"
      ],
      "metadata": {
        "colab": {
          "base_uri": "https://localhost:8080/"
        },
        "outputId": "639ab6fb-a7c9-49ac-c0db-1ecffe2d5123",
        "id": "qILYFaPNb0Fg"
      },
      "execution_count": 27,
      "outputs": [
        {
          "output_type": "execute_result",
          "data": {
            "text/plain": [
              "4"
            ]
          },
          "metadata": {},
          "execution_count": 27
        }
      ]
    },
    {
      "cell_type": "markdown",
      "source": [
        "## Part 3\n",
        "Suppose we use an affine gap penalty where it costs −20 to open a gap, and −1 to extend it. Scores of matches and mismatches are unchanged. What is the optimal global alignment in this case and what score does it achieve?\n"
      ],
      "metadata": {
        "id": "j4o4-ZLXrzRj"
      }
    },
    {
      "cell_type": "markdown",
      "source": [
        "### Answer\n",
        "\n",
        "<img src = \"https://drive.google.com/uc?id=1ydno86qhEju2LnJdqiYr4DP-1Y1EVeuW\" >\n",
        "<img src = \"https://drive.google.com/uc?id=1JC2Pv6QRdBpx2Dkzo1mBprbS8w16mlo3\" >"
      ],
      "metadata": {
        "id": "-re6Ffmir3H_"
      }
    },
    {
      "cell_type": "markdown",
      "source": [
        "# Problem 6.21\n",
        "\n",
        "For a pair of strings $ v = v_1 . . . v_n$ and $w = w_1 . . .w_m$, define $M(v,w)$ to be the matrix whose $(i, j)$th entry is the score of the _optimal global alignment_ which aligns the character $v_i$ with the character $w_j$ . Give an $O(nm)$ algorithm which computes $M(v,w)$."
      ],
      "metadata": {
        "id": "q4eepZ7O5wb3"
      }
    },
    {
      "cell_type": "markdown",
      "source": [
        "## Answer\n",
        "\n",
        "<img src = \"https://drive.google.com/uc?id=1LoCCyNz1780NCQi6jtPsJ1wxPPMrVOB2\" >"
      ],
      "metadata": {
        "id": "hSyrfqhQsfl3"
      }
    },
    {
      "cell_type": "code",
      "source": [
        "def M(V,W,S) : \n",
        "  \n",
        "  (GPSA , _ , _) = GPSA_DP_BU(V,W,S,d)\n",
        "\n",
        "  V_R = list(V)\n",
        "  V_R.reverse()\n",
        "  v_R = \"\".join(V_R)\n",
        "\n",
        "  W_R = list(W)\n",
        "  W_R.reverse()\n",
        "  W_R = \"\".join(W_R)\n",
        "  \n",
        "  (GPSA_reverse , _ , _) = GPSA_DP_BU(V_R,W_R,S,d)\n",
        "\n",
        "  # M_BU_table , M_BU_operations_table = DP_tables(V,W)\n",
        "  M_BU_table = np.full((len(W),len(V)), -1)\n",
        "  for i in range(1,len(W)+1) :\n",
        "    for j in range(1,len(V)+1):\n",
        "      M_BU_table[i-1,j-1] = GPSA[j-1,i-1] + Score(V[j-1],W[i-1],S) + GPSA_reverse[len(V)-j,len(W)-i]\n",
        "\n",
        "  return M_BU_table    \n",
        "      "
      ],
      "metadata": {
        "id": "LBmBXTDn5cgy"
      },
      "execution_count": 28,
      "outputs": []
    },
    {
      "cell_type": "code",
      "source": [
        "M(\"AC\",\"CG\",Scoring_Matrix)"
      ],
      "metadata": {
        "colab": {
          "base_uri": "https://localhost:8080/"
        },
        "id": "AnC2fu8h8SgD",
        "outputId": "f5e81ce0-4730-46b3-ee1e-ba0838e60d3f"
      },
      "execution_count": 29,
      "outputs": [
        {
          "output_type": "execute_result",
          "data": {
            "text/plain": [
              "array([[-2, -1],\n",
              "       [-3, -2]])"
            ]
          },
          "metadata": {},
          "execution_count": 29
        }
      ]
    },
    {
      "cell_type": "markdown",
      "source": [
        "# Problem 6.23\n",
        "Give an algorithm which computes the optimal fitting alignment. Explain how to fill in the first row and column of the _dynamic programming table_ and give a _recurrence_ to fill in the rest of the table. Give a method to find the best alignment once the table is filled in. The algorithm should run in time $O(nm)$."
      ],
      "metadata": {
        "id": "93atUgHs51UC"
      }
    },
    {
      "cell_type": "markdown",
      "source": [
        "## Answer\n",
        "\n",
        "<img src = \"https://drive.google.com/uc?id=1cWMU_zB3c1M0xzctuhI8qeORte32lyG_\" >"
      ],
      "metadata": {
        "id": "mLjzKQKAspOB"
      }
    },
    {
      "cell_type": "markdown",
      "source": [
        "# Problem 6.24\n",
        "\n",
        "Devise an efficient algorithm for the __Semiglobal Alignment problem__ and illustrate its work on the sequences ACAGATA and AGT. For scoring, use the match premium +1,mismatch penalty −1, and indel penalty −1."
      ],
      "metadata": {
        "id": "nD3-OElf56Up"
      }
    },
    {
      "cell_type": "markdown",
      "source": [
        "## Answer\n",
        "\n",
        "<img src = \"https://drive.google.com/uc?id=1HpUF_J1kwXRwgFsGl50ZL1rtnaX5eivZ\" >\n",
        "\n",
        "<img src = \"https://drive.google.com/uc?id=1EUYI_sczJHI9VTCX6tZZy2vtz3EL-vFG\" >"
      ],
      "metadata": {
        "id": "9ZcdYZtgtYbk"
      }
    },
    {
      "cell_type": "markdown",
      "source": [
        "## SemiGlobal Pairwise Sequence Alignment"
      ],
      "metadata": {
        "id": "BjbEMys9MaK5"
      }
    },
    {
      "cell_type": "code",
      "source": [
        "def SPGA_DP_tables(X,Y) :\n",
        "  \n",
        "  SGPSA_BU_table_temp = np.full((len(Y)+1,len(X)+1), -1)\n",
        "\n",
        "  SGPSA_BU_operations_table_temp = (len(Y)+1)*(len(X)+1)*[\"E\"]\n",
        "  SGPSA_BU_operations_table_temp = np.array(SGPSA_BU_operations_table_temp , dtype=str)\n",
        "  SGPSA_BU_operations_table_temp = np.reshape(SGPSA_BU_operations_table_temp,(len(Y)+1,len(X)+1))\n",
        "\n",
        "  return (SGPSA_BU_table_temp , SGPSA_BU_operations_table_temp) "
      ],
      "metadata": {
        "id": "IA0BsefxLtmc"
      },
      "execution_count": 30,
      "outputs": []
    },
    {
      "cell_type": "code",
      "source": [
        "def SGPSA_DP_BU(X,Y,S,d) :\n",
        "\n",
        "\n",
        "  SGPSA_BU_table , SGPSA_BU_operations_table = SPGA_DP_tables(X,Y)\n",
        "  \n",
        "  \n",
        "\n",
        "  for i in range(0,len(Y)+1) :\n",
        "    for j in range(0,len(X)+1) :\n",
        "      \n",
        "      if i == 0 and j == 0 :\n",
        "        SGPSA_BU_table[i,j] = 0\n",
        "        SGPSA_BU_operations_table[i,j] = \"N\"\n",
        "\n",
        "      if i == 0 and j != 0 :\n",
        "        SGPSA_BU_table[i,j] = 0\n",
        "        SGPSA_BU_operations_table[i,j] = \"D\"   # DELETE\n",
        "      \n",
        "      if j == 0 and i != 0 :\n",
        "        SGPSA_BU_table[i,j] = 0\n",
        "        SGPSA_BU_operations_table[i,j] = \"I\"   # INSERT\n",
        "\n",
        "\n",
        "      \n",
        "      if i > 0 and j > 0 :\n",
        "\n",
        "\n",
        "          SGPSA_BU_table[i,j] = max( SGPSA_BU_table[i-1,j-1] + Score(X[j-1],Y[i-1],S) , SGPSA_BU_table[i,j-1] - d , SGPSA_BU_table[i-1,j] - d )\n",
        "          \n",
        "          if SGPSA_BU_table[i,j] == SGPSA_BU_table[i-1,j-1] + Score(X[j-1],Y[i-1],S) :\n",
        "            SGPSA_BU_operations_table[i,j] = \"S\" # SUBSTITUTION\n",
        "\n",
        "          if SGPSA_BU_table[i,j] == SGPSA_BU_table[i,j-1] - d :\n",
        "            SGPSA_BU_operations_table[i,j] = \"D\" # DELETE\n",
        "\n",
        "          if SGPSA_BU_table[i,j] == SGPSA_BU_table[i-1,j] - d :\n",
        "            SGPSA_BU_operations_table[i,j] = \"I\" # INSERT\n",
        "            \n",
        "\n",
        "  return (SGPSA_BU_table , SGPSA_BU_operations_table , max(SGPSA_BU_table[-1,:]))"
      ],
      "metadata": {
        "id": "qw0vSDGeLtmk"
      },
      "execution_count": 31,
      "outputs": []
    },
    {
      "cell_type": "code",
      "source": [
        "V = \"ACAGATA\"\n",
        "W = \"AGT\""
      ],
      "metadata": {
        "id": "Of2pvbRaL-Ad"
      },
      "execution_count": 32,
      "outputs": []
    },
    {
      "cell_type": "code",
      "source": [
        "optimal_value_table , optimal_solution_table ,global_optimal_value = SGPSA_DP_BU(V,W,Scoring_Matrix,d)"
      ],
      "metadata": {
        "id": "sr_3VqlCLtmk"
      },
      "execution_count": 33,
      "outputs": []
    },
    {
      "cell_type": "code",
      "source": [
        "optimal_value_table"
      ],
      "metadata": {
        "colab": {
          "base_uri": "https://localhost:8080/"
        },
        "outputId": "fcb40677-b147-4031-c406-1a257f6d8037",
        "id": "jwpN4om7Ltmk"
      },
      "execution_count": 34,
      "outputs": [
        {
          "output_type": "execute_result",
          "data": {
            "text/plain": [
              "array([[ 0,  0,  0,  0,  0,  0,  0,  0],\n",
              "       [ 0,  1,  0,  1,  0,  1,  0,  1],\n",
              "       [ 0,  0,  0,  0,  2,  1,  0,  0],\n",
              "       [ 0, -1, -1, -1,  1,  1,  2,  1]])"
            ]
          },
          "metadata": {},
          "execution_count": 34
        }
      ]
    },
    {
      "cell_type": "code",
      "source": [
        "optimal_solution_table"
      ],
      "metadata": {
        "colab": {
          "base_uri": "https://localhost:8080/"
        },
        "outputId": "c2770597-f7d5-4bfb-8507-b7a414e610c5",
        "id": "yiLO-ctYLtmk"
      },
      "execution_count": 35,
      "outputs": [
        {
          "output_type": "execute_result",
          "data": {
            "text/plain": [
              "array([['N', 'D', 'D', 'D', 'D', 'D', 'D', 'D'],\n",
              "       ['I', 'S', 'D', 'S', 'D', 'S', 'D', 'S'],\n",
              "       ['I', 'I', 'S', 'I', 'S', 'D', 'D', 'I'],\n",
              "       ['I', 'I', 'I', 'I', 'I', 'S', 'S', 'D']], dtype='<U1')"
            ]
          },
          "metadata": {},
          "execution_count": 35
        }
      ]
    },
    {
      "cell_type": "code",
      "source": [
        "global_optimal_value"
      ],
      "metadata": {
        "colab": {
          "base_uri": "https://localhost:8080/"
        },
        "outputId": "ca31d6e2-efa5-490a-a9f1-20e16d9574d2",
        "id": "HQVhd1vfLtmk"
      },
      "execution_count": 36,
      "outputs": [
        {
          "output_type": "execute_result",
          "data": {
            "text/plain": [
              "2"
            ]
          },
          "metadata": {},
          "execution_count": 36
        }
      ]
    },
    {
      "cell_type": "markdown",
      "source": [
        "# Problem 6.26\n",
        "\n",
        "Substrings $v_i, . . . , v_{i+k}$ and $v_{i'} , . . . , v_{i'+k}$ of the string $v_1, . . . , v_n$ form a substring pair if $i'−i+k > MinGap$, where $MinGap$ is a parameter. Define the substring pair score as the (global) alignment score of $v_i, . . . , v_{i+k}$ and $v_i' , . . . , v_{i'+k}$. Design an algorithm that finds a substring pair with maximum score."
      ],
      "metadata": {
        "id": "rgHG0g095_ie"
      }
    },
    {
      "cell_type": "markdown",
      "source": [
        "## Answer\n",
        "\n",
        "<img src = \"https://drive.google.com/uc?id=\" >"
      ],
      "metadata": {
        "id": "FQ7kMD9jtpAK"
      }
    },
    {
      "cell_type": "markdown",
      "source": [
        "# Problem 6.28\n",
        "\n",
        "Given a _non-degenerate_ string, $v$, and a _degenerate_ string $w$ that contains $k$ __N__s, devise a method to find the best interpretation of $w$ according to $v$. That is, out of all $4k$ possible interpretations of $w$, find $w'$ with the minimum alignment score $s(w', v)$."
      ],
      "metadata": {
        "id": "WIbFBI1R6Dik"
      }
    },
    {
      "cell_type": "markdown",
      "source": [
        "## Answer\n",
        "\n",
        "<img src = \"https://drive.google.com/uc?id=1XlpMZIyLOtDNAJxNqsbJmv8VfV3EGyjP\" >"
      ],
      "metadata": {
        "id": "V7qXIc6Ntt83"
      }
    },
    {
      "cell_type": "markdown",
      "source": [
        "# Problem 6.30\n",
        "Given two strings $v_1$ and $v_2$, explain how to construct a string $w$ minimizing\n",
        "<br><br>\n",
        "$|d(v_1,w) − d(v_2,w)|$\n",
        "<br><br>\n",
        "such that\n",
        "$d(v_1,w) + d(v_2,w) = d(v_1, v_2)$.\n",
        "<br><br>\n",
        "$d(·, ·)$ is the edit distance between two strings."
      ],
      "metadata": {
        "id": "di9toNuY6Fbb"
      }
    },
    {
      "cell_type": "markdown",
      "source": [
        "## Answer\n",
        "\n",
        "<img src = \"https://drive.google.com/uc?id=1_shl3Y-gs9dSuC_pEvdKao2QPMfo8BC9\" >"
      ],
      "metadata": {
        "id": "rLtsa9FktuyB"
      }
    },
    {
      "cell_type": "markdown",
      "source": [
        "# Problem 6.33\n",
        "Devise a faster algorithm for solving the __tandem repeat problem__."
      ],
      "metadata": {
        "id": "LBFBIg6-6IFY"
      }
    },
    {
      "cell_type": "markdown",
      "source": [
        "## Answer\n",
        "\n",
        "<img src = \"https://drive.google.com/uc?id=\" >"
      ],
      "metadata": {
        "id": "g2GZ_FJLtwUE"
      }
    },
    {
      "cell_type": "markdown",
      "source": [
        "# Problem 6.35\n",
        "<html>\n",
        "<p>Use figure 6.29 to answer the following questions:\n",
        "<ul>\n",
        "<li>How many exons are in the human $\\beta$-globulin gene?</li>\n",
        "<li>The dot matrix in figure 6.29 (top) is between the mouse and human genes (i.e.,all introns and exons are present). Do you think the number of exons in the $\\beta$-globulin gene is different in the human genome as compared to the mouse genome?</li>\n",
        "<li>Label segments of the axes of the human and mouse genes in figure 6.29 to show where the introns and exons would be located.</li>\n",
        "\n",
        "<br>\n",
        "\n",
        "<img src = \"https://drive.google.com/uc?id=1tV-2vwkzEP4xxS4CgoUC35mqA1uNX5M4\" >\n"
      ],
      "metadata": {
        "id": "V9sJDy2C6K8U"
      }
    },
    {
      "cell_type": "markdown",
      "source": [
        "## Answer\n",
        "\n",
        "<img src = \"https://drive.google.com/uc?id=1EelzGFB6vGLAnWOjVliywAhw2bYOc3nN\" >"
      ],
      "metadata": {
        "id": "FWux71ectxAg"
      }
    },
    {
      "cell_type": "markdown",
      "source": [
        "# Problem 6.36\n",
        "\n",
        "Devise an algorithm for the __Optimal Inexact Repeat problem__."
      ],
      "metadata": {
        "id": "RUOWVySF6M0I"
      }
    },
    {
      "cell_type": "markdown",
      "source": [
        "## Answer\n",
        "\n",
        "<img src = \"https://drive.google.com/uc?id=\" >"
      ],
      "metadata": {
        "id": "VjJF5z2Utxoa"
      }
    },
    {
      "cell_type": "markdown",
      "source": [
        "# Tree-guided Multipe Alignment \n",
        "\n",
        "\n",
        "<img src = \"https://drive.google.com/uc?id=1niJwOYuiRT__3KM9SBUy7IOuZUg8LdnR\" >\n"
      ],
      "metadata": {
        "id": "iZHD4vEW6PNG"
      }
    },
    {
      "cell_type": "markdown",
      "source": [
        "## Answer\n",
        "\n",
        "<img src = \"https://drive.google.com/uc?id=\" >"
      ],
      "metadata": {
        "id": "lzMQACd5tyVT"
      }
    },
    {
      "cell_type": "markdown",
      "source": [
        "# Greedy Pairwise Alignment\n",
        "\n",
        "<img src = \"https://drive.google.com/uc?id=1oP6NrDXOWB9oWKDbmaBtMbQUXWhqltNr\" >"
      ],
      "metadata": {
        "id": "c0y1OSqW6dJp"
      }
    },
    {
      "cell_type": "markdown",
      "source": [
        "## Answer\n",
        "\n",
        "<img src = \"https://drive.google.com/uc?id=\" >"
      ],
      "metadata": {
        "id": "8oh9RJZbtzSQ"
      }
    }
  ]
}